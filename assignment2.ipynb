{
 "cells": [
  {
   "cell_type": "raw",
   "metadata": {
    "vscode": {
     "languageId": "raw"
    }
   },
   "source": [
    "---\n",
    "title: STATS 3DA3\n",
    "subtitle: Homework Assignment 2\n",
    "author: \"Neerat Grewal (400323214)\"\n",
    "date: 01/24/2025\n",
    "format: pdf\n",
    "header-includes:\n",
    "   - \\usepackage{amsmath}\n",
    "   - \\usepackage{bbm}\n",
    "   - \\usepackage{array}\n",
    "   - \\usepackage{multirow}\n",
    "   - \\usepackage{graphicx}\n",
    "   - \\usepackage{float}\n",
    "   - \\usepackage{apacite}\n",
    "   - \\usepackage{natbib}\n",
    "execute: \n",
    "  echo: true\n",
    "fontsize: 11pt\n",
    "geometry: margin = 1in\n",
    "linestretch: 1.5\n",
    "---"
   ]
  },
  {
   "cell_type": "markdown",
   "metadata": {},
   "source": [
    "\\newpage"
   ]
  },
  {
   "cell_type": "markdown",
   "metadata": {},
   "source": [
    "For all the questions, use Python 3.11.5 and virtual environment. Then, install the required libraries for text mining and Shiny visualization. "
   ]
  },
  {
   "cell_type": "markdown",
   "metadata": {},
   "source": [
    "## Question 1: Word Cloud Analysis\n",
    "\n",
    "Let's explore the article **\"Data Science and Engineering With Human in the Loop, Behind the Loop, and Above the Loop\"** by Xiao-Li Meng (2023). Follow the steps below to create and analyze a word cloud for pages 2–5 of the article. "
   ]
  },
  {
   "cell_type": "markdown",
   "metadata": {},
   "source": [
    "(1) Add the article **\"Data Science and Engineering With Human in the Loop, Behind the Loop, and Above the Loop\"** by Xiao-Li Meng (2023) to your reference list."
   ]
  },
  {
   "cell_type": "markdown",
   "metadata": {},
   "source": [
    "## References\n",
    "\n",
    "  Meng, X.-L. (2023). Data Science and Engineering With Human in the Loop, Behind the Loop, and Above the Loop. Harvard Data Science Review, 5(2). https://doi.org/10.1162/99608f92.68a012eb"
   ]
  },
  {
   "cell_type": "markdown",
   "metadata": {},
   "source": [
    "\\newpage"
   ]
  },
  {
   "cell_type": "markdown",
   "metadata": {},
   "source": [
    "(2) Download the PDF of the article. \n",
    "\n",
    "    \\color{blue}\n",
    "\n",
    "    Hint: \n",
    "\n",
    "    - Access the article via [https://doi.org/10.1162/99608f92.68a012eb](https://doi.org/10.1162/99608f92.68a012eb).  \n",
    "    - Click the **Download** button in the top-right corner, and choose the **PDF** format.  \n",
    "    - Move the downloaded file to your working folder and rename it as `paper.pdf`.\n",
    "\n",
    "    \\color{black}"
   ]
  },
  {
   "cell_type": "markdown",
   "metadata": {},
   "source": [
    "\\newpage"
   ]
  },
  {
   "cell_type": "markdown",
   "metadata": {},
   "source": [
    "(3) Use `pdfplumber.open()` to open the PDF."
   ]
  },
  {
   "cell_type": "code",
   "execution_count": 1,
   "metadata": {},
   "outputs": [],
   "source": [
    "import numpy as numpy\n",
    "import pandas as pd\n",
    "import re\n",
    "from nltk.tokenize import word_tokenize\n",
    "from nltk.corpus import stopwords\n",
    "import nltk\n",
    "import pytz\n",
    "\n",
    "import matplotlib.pyplot as plt\n",
    "from wordcloud import WordCloud\n",
    "\n",
    "import pdfplumber"
   ]
  },
  {
   "cell_type": "code",
   "execution_count": 2,
   "metadata": {},
   "outputs": [
    {
     "name": "stderr",
     "output_type": "stream",
     "text": [
      "[nltk_data] Downloading package punkt to\n",
      "[nltk_data]     /Users/jaspreetbrar/nltk_data...\n",
      "[nltk_data]   Package punkt is already up-to-date!\n",
      "[nltk_data] Downloading package stopwords to\n",
      "[nltk_data]     /Users/jaspreetbrar/nltk_data...\n",
      "[nltk_data]   Unzipping corpora/stopwords.zip.\n"
     ]
    },
    {
     "data": {
      "text/plain": [
       "True"
      ]
     },
     "execution_count": 2,
     "metadata": {},
     "output_type": "execute_result"
    }
   ],
   "source": [
    "# this NLTK data download is called only one time\n",
    "# word_tokenize uses punkt tokenizer model\n",
    "nltk.download('punkt')\n",
    "nltk.download('stopwords')"
   ]
  },
  {
   "cell_type": "code",
   "execution_count": 3,
   "metadata": {},
   "outputs": [
    {
     "name": "stdout",
     "output_type": "stream",
     "text": [
      "Harvard Data Science Review • Issue 5.2, Spring 2023 Data Science and Engineering With Human in the Loop, Behind the\n",
      "Loop, and Above the Loop\n",
      "The term human-in-the-loop (HITL) generally refers to the need for human interaction, intervention, and\n",
      "judgment to control or change the outcome of a process, and it is a practice that is being increasingly\n",
      "emphasized in machine learning, generative AI, and the like. For readers who have not enjoyed machine-\n",
      "assisted learning or who are comfortable with their human intelligences, it would not surprise me if some of\n",
      "you would wonder, upon hearing the term HITL, ‘Wait, when did we take humans out of the loop?’ The\n",
      "diversity of human minds guarantees that such a question would generate reactions ranging from being inspired\n",
      "to being despised. Regardless, however, the arrival of ChatGPT and other AI chatbots has made the mostly\n",
      "academic debate of machine intelligence versus human intelligence into a household conversation piece. It is\n",
      "therefore an apt time to turn such a rhetorical question into retrospection and reflection.\n",
      "With my human thinking in the loop, I probably can take any issue of HDSR to remind ourselves of the roles\n",
      "we humans play in the data science (DS) ecosystem. Indeed, as I wrote in the inaugural editorial, titled “Data\n",
      "Science: An Artificial Ecosystem,” “the term ‘artificial’ highlights both the fact that DS is a human construct\n",
      "and that it depends critically on computing advances” (Meng, 2019). (The same can and should be said about\n",
      "data engineering (DE), which can advance faster than DS, as we witnessed recently with the progression from\n",
      "GPT-n to GPT-(n+1), n<4.) However, the current issue is particularly fitting for this contemplation because it is\n",
      "the first HDSR issue with a special theme dedicated to a beautiful mind that came with a beautiful heart, a term\n",
      "that yet to be applied to any machine. As such, I ask for readers’ indulgence—and my fellow data scientists’\n",
      "forgiveness—for creating sibling rivalries to HITL.\n",
      "Human in the Loop: From Developers to Deployers\n",
      "As cliché as this may sound, humans are always in the loop for advancing data science or engineering at all\n",
      "fronts, literally and figuratively. Indeed, for those who don’t mind the label of anthropocentrist, the\n",
      "paraphrasing ‘DS/DE are of the people, by the people, and for the people’ might be a more arousing title for\n",
      "this editorial. Data are typically digital representations of some people’s mental activities or physical\n",
      "endeavors, and they are collected because some (other) people see the benefit to doing so. The benefits can be\n",
      "for the data subjects, the data collectors, or other people, which often include those yet to be born. To realize\n",
      "and optimize the benefit, yet more groups of people would be required for developing methods, implementing\n",
      "algorithms, interpreting and deploying the results, and so on, in order to reap the perceived benefits.\n",
      "For the Recreations in Randomness column, Kavya Mehul Shah and Ammaar Ahmed Saeed’s (2023) account\n",
      "on “Innovating a Centuries-Old Sport: How Emerging Data Analytics Tools Are Redefining Cricket” provides\n",
      "a concrete illustration of such human effort. For example, cricket highlights are short video clips that are\n",
      "collected because they can benefit players, coaches, and organizations. Traditionally the creation of these\n",
      "highlights “requires sports broadcasters and video editors to manually parse through hours of footage to\n",
      "identify exciting moments”—clearly a not very exciting process to say the least. Automated highlights\n",
      "generation is then a very welcome advance that requires both data science (e.g., semantic segmentation to\n",
      "2Harvard Data Science Review • Issue 5.2, Spring 2023 Data Science and Engineering With Human in the Loop, Behind the\n",
      "Loop, and Above the Loop\n",
      "identify “exciting moments”) and data engineering (e.g., effective software for routine applications). Much\n",
      "progress has been made in the last 20 years, as reviewed in the article. Yet the 2 decades of progress also\n",
      "indicate the amount of human effort required to automate the creation process, not to mention human effort\n",
      "needed in translating highlights into the desired benefit.\n",
      "As another indication of the human effort, when I initially opened the document file for this column article to\n",
      "prepare for this editorial, I was a bit surprised to see that the word count was about 4,600—far exceeding the\n",
      "normally expected 2,500 words for a column. In case a reader wonders why I was not aware of the length of a\n",
      "submission until the end stages, I am grateful to the interim Co-Editor-in-Chiefs, Francesca Dominici and\n",
      "David Parkes, whose dedication allowed me to take a real sabbatical (which incidentally gave me time to\n",
      "appreciate the benefit of sports). It turns out that the article has 65 references (which are not counted towards\n",
      "the 2,500 limit), which is an unusually extensive list even for a regular article. But it is fitting for this column\n",
      "since the list provides a chronological picture of human effort and progress in reshaping a half-millennium-old\n",
      "sport via data science and engineering. Indeed, it is almost certain that the list is still only a (non-random)\n",
      "sample.\n",
      "… and From Software Engineers to Data Science Managers\n",
      "The sabbatical year also afforded me the opportunity to join an international collaboration on assessing living\n",
      "conditions globally in general, and in Africa in particular, by combining ground-level survey data with satellite\n",
      "image data via deep learning. The data involved are treasures not only for the mission of the collaboration, but\n",
      "also for data science and engineering education in general. They exhibit almost the full spectrum of complexity\n",
      "and defects as routinely encountered in practice, including selection bias, measurement errors, loss of\n",
      "information due to privacy protection, mismatches in spatial, temporal, and contextual resolutions, and\n",
      "incomplete documentation of data provenance, just to provide a partial list. The collaboration team is also\n",
      "multi-faceted, involving multiple disciplines (e.g., computer science, engineering, sociology, statistics) and\n",
      "members in all career stages from undergraduate to senior researchers with a variety of working styles and who\n",
      "are driven by different interests or incentives. This collaborative experience, which is still ongoing, deepened\n",
      "my appreciation of two kinds of humans in the loop, so to speak.\n",
      "One kind of profession is software engineers, whose technical skills and teamwork (or lack thereof) typically\n",
      "govern the pace for progress. For complex projects, many methodological ideas need to be (stress) tested.\n",
      "These tests can take weeks or minutes, all depending on the engineers’ experiences and skills. For the project I\n",
      "am involved in, a clever implementation circumventing a map computation with mismatched resolutions sped\n",
      "up the test by several weeks. With those experiences still fresh, I literally thought I was daydreaming when I\n",
      "saw the article “Software Engineering Practices in Academia: Promoting the 3Rs—Readability, Resilience, and\n",
      "Reuse” by Andrew Connolly, Joseph Hellerstein, Naomi Alterman, David Beck, Rob Fatland, Ed Lazowska,\n",
      "Vani Mandava, and Sarah Stone (2023). The first section title says it all: “Good Data Science Requires High-\n",
      "Quality Software Engineering.” Its diagnosis of the major issues in academia is spot on, as academics tend to\n",
      "3Harvard Data Science Review • Issue 5.2, Spring 2023 Data Science and Engineering With Human in the Loop, Behind the\n",
      "Loop, and Above the Loop\n",
      "“address their software development needs by hiring graduate students, often without any formal training in\n",
      "software engineering,” and the vast majority of the software projects are created in an often-inefficient ‘3S’\n",
      "setting: single developer, single user, and single study. For any academics who are interested in improving the\n",
      "quality of their data science projects and of their life by reducing work inefficiency, the time invested on\n",
      "digesting this article is likely to be negligible compared to the time saved moving forward, because the article\n",
      "provides real-life successes, reasons, and recommendations—with specific recipes—for adopting the ‘3R’\n",
      "principle.\n",
      "The other kind of profession is data science managers. With a team of diverse expertise, interests, and work\n",
      "habits and schedules, and the nature of the project being multi-phased, having an all-around data science\n",
      "manager is another key for both the quality and speed of the project. For the collaboration I am involved with,\n",
      "things changed substantially once we had such a data science manager in place. A data science manager is\n",
      "more like a chief of staff to the intellectual leaders of a data science collaboration, which means that the\n",
      "manager needs to have sufficient technical, personal, and organizational skills to be effective. A crucial task for\n",
      "a data science manager is to help to identify, establish, and sustain a collaborative platform and working culture\n",
      "that is conducive to making the whole more than the sum of its parts, or at least not less. The latter can easily\n",
      "happen (and did happen even in my very limited experience) when there are miscommunications,\n",
      "misunderstandings, and mismatched expectations among different team members or groups. The manager\n",
      "needs to be a strategic thinker with sufficient know-how to recognize or anticipate weak links, devise solutions\n",
      "or preventive measures accordingly, and ultimately creative an incentivizing infrastructure to enhance team\n",
      "efficiency and team members’ desire to further the collaboration.\n",
      "With these reflections from my recent experiences, I was instantly attracted by another article in this issue,\n",
      "“Managing Embedded Data Science Teams for Success: How Managers Can Navigate the Advantages and\n",
      "Challenges of Distributed Data Science,” by Marta Stelmaszak and Kelsey Kline (2023). Through a case study,\n",
      "the authors summarize three advantages for the embedded structures, “1) agility in delivering quicker and\n",
      "better tailored analytics, 2) concentrated and cultivated data science expertise, and 3) emerging bottom-up\n",
      "solution ideas,” as well as three disadvantages: “1) growing away from the enterprise infrastructure, 2)\n",
      "duplicating data science efforts, and 3) weakening links with strategic impact.” Although the setup here is\n",
      "rather different from academic collaborations, the main conclusion of the article is the data science manager is\n",
      "the critical HITL to reap these advantages and curtail the disadvantages. To do so, the article argues that data\n",
      "science managers need to have aptitudes for all three managing directions: within a team (e.g., ability to\n",
      "balance workload for members with varying expertise), vertically in an organization (e.g., interpersonal skills\n",
      "to maintain team visibility at all levels of the organization), and horizontally across the organization (e.g.,\n",
      "capability to develop networks with other data science teams).\n",
      "The vital role of managing is furthered demonstrated in “To Deploy Machine Learning, You Must Manage\n",
      "Operational Change—Here Is How UPS Got It Right” by Eric Siegel (2023). The article starts with a telling\n",
      "4Harvard Data Science Review • Issue 5.2, Spring 2023 Data Science and Engineering With Human in the Loop, Behind the\n",
      "Loop, and Above the Loop\n",
      "story of how a trash collection company dumped a university generated route-optimizing plan that could cut its\n",
      "number of trash tracks by 50%. I won’t spoil the rest of the plot, which could easily be adapted into a script for\n",
      "a Hollywood movie on machine learning or AI (perhaps with the help of GPT-n), but only to repeat the\n",
      "metaphor Siegel used. The “rocket science” of machine learning for commercial use is easy. The hard part is\n",
      "getting the end product or process launched, which requires changing humans’ habits. That’s not rocket\n",
      "science; that’s beyond rocket science.\n",
      "Human Behind the Loop: With Beautiful Minds and Beautiful\n",
      "Hearts\n",
      "Much of the research of and discussions about HITL focus on the interaction between humans and machines.\n",
      "But as we just discussed, translating and transforming the advances in data science and engineering into actual\n",
      "value for human societies is a matter of interactions among humans. Arguably another kind of human\n",
      "interaction is even more important for the data science enterprise, namely the professional and interpersonal\n",
      "interactions among members of the data science ecosystem. A shining example is provided by the special\n",
      "theme in this issue celebrating the life and work of Sir David Cox, a giant in statistics and in science in general.\n",
      "In his long and extremely distinguished career, David served as a global model in everything he did. He was an\n",
      "extremely deep, broad, and influential scholar, a much-loved advisor of over 60 doctorial students, an\n",
      "exceedingly effective editor for Biometrika for 25 years, and a well-respected academic and professional leader\n",
      "(e.g., serving as Warden of Nuffield College, and as president of multiple professional societies). The 20\n",
      "articles in the special theme document many interactions with David in a myriad of ways and across many\n",
      "decades (and countries). Yet they reflect a common theme: the lasting impression and impact of the\n",
      "interactions. I am deeply grateful to the co-editors of this special theme, Sylvia Richardson and Nanny\n",
      "Wermuth, for organizing and introducing (Richardson & Wermuth, 2023) such a rich and heartwarming\n",
      "collection, and to all contributors for sharing their personal stories with all of us, to which I add my own.\n",
      "My first interaction with David took place when I was a PhD student in late 1980s, where I co-authored an\n",
      "article that was submitted to Biometrika. At that time, the review processes for most statistical journals were\n",
      "notoriously slow; it was rather common for the review process to take more than 6 months for the first round.\n",
      "Biometrika was an exception, despite having the smallest editorial board among all top-tier journals. Even with\n",
      "that expectation, I was rather surprised when we heard from David within 2 weeks of submission, and it was\n",
      "not a quick rejection letter. Rather, David had provided detailed comments and asked us to do a revision before\n",
      "he sent it out for a full review. I do not recall the details of David’s comments, but I remembered distinctively\n",
      "being very impressed by the promptness and insightfulness of the comments, which led to a much-improved\n",
      "revision, and ultimately my first publication in the tier-one journals in statistics.\n",
      "Years later I had an opportunity to meet with David in person, when I could no longer hold my curiosity and\n",
      "hence asked how he could handle so many articles personally, and yet with such efficiency. The answer he\n",
      "5Harvard Data Science Review • Issue 5.2, Spring 2023 Data Science and Engineering With Human in the Loop, Behind the\n",
      "Loop, and Above the Loop\n",
      "gave can be found in A C. Davison’s (2023) reminisces: David read every submission on the daily commuting\n",
      "Tube ride. But of course, that is only half of the story since reading is not the same as coming up with\n",
      "insightful and persuasive comments. For that, few could compete with David’s encyclopedic knowledge, deep\n",
      "insights, and rich intuition. Like Davison (2023) who tried to “emulate his quick turnaround of submissions\n",
      "and constructive suggestions to authors,” I too tried to follow David’s model in my own editorial work, only to\n",
      "find how challenging that is—it is certainly not nearly as easy a ride as David’s daily Tube ride.\n",
      "In the world of leading scholars, there must be many minds that are as beautiful as David’s intellectual mind, to\n",
      "borrow the Hollywoodized phrase ‘beautiful mind.’ But having a beautiful mind does not necessarily make one\n",
      "a great educator, and indeed in some academic circles, a negative correlation between the two has been\n",
      "suggested. As reported by my colleague Joe Blitzstein (2023) in the Bits and Bites column of this issue,\n",
      "David’s beautiful mind for research came with a beautiful heart for education. About a decade ago, Joe and I\n",
      "co-taught a course on reading Cox’s many contributions, and we invited David to come to provide a unique\n",
      "opportunity to students to meet an intellectual giant in person. He agreed very promptly, but ultimately a health\n",
      "issue (and his doctors) prevented him from making the international trip. He kindly offered to communicate\n",
      "with students in writing, which the students of course were thrilled to have the chance to directly ask arguably\n",
      "the world’s most preeminent statistician alive then. They hence asked many tough questions, which were\n",
      "summarized and sent to David. We of course only expected him to answer some of the questions, knowing how\n",
      "busy he was—he was ageless in terms of professional activities, and consequently in extremely high demand.\n",
      "To our great surprise, David provided detailed responses to essentially all questions. I was therefore so pleased\n",
      "when I was reminded by Joe that he had kept this precious document. I immediately invited Joe to annotate it\n",
      "so we could share with the world this hidden set of treasures of Cox’s insights and wisdom. It is a great\n",
      "testimony to David’s beautiful heart for education and his care for future generations, a repeating theme that is\n",
      "also vivid in the 20 articles celebrating Sir David Cox, a true model for all (data) scientists.\n",
      "Human Above the Loop: Oversight and Insight\n",
      "A key public concern of ChatGPT and the like is that AI will replace humans in many ways, especially\n",
      "regarding jobs. There are indeed jobs that will be done by AI—I certainly have used ChatGPT increasingly so\n",
      "for checking my Chinglish instead of sending my draft to a human editor. However, there is one kind of human\n",
      "function that will never be replaced by machine or AI because of its very nature: human’s oversight, whether\n",
      "over machines, processes, or people themselves. Pavle Avramović’s (2023) “Digital Transformation of\n",
      "Financial Regulators and the Emergence of Supervisory Technologies (SupTech): A Case Study of the U.K.\n",
      "Financial Conduct Authority” provides ample reasons why human oversight is always needed for financial\n",
      "markets, especially with their adoption of advanced technologies. For example, human oversight is necessary\n",
      "to ensure the functionality of the technologies as intended, curtail their unintended consequences, and prevent\n",
      "their abusive and malicious use by some people. To do this well, human oversight itself should utilize\n",
      "technologies, as long as we understand how these technologies fulfill our supervision and regulatory goals.\n",
      "6Harvard Data Science Review • Issue 5.2, Spring 2023 Data Science and Engineering With Human in the Loop, Behind the\n",
      "Loop, and Above the Loop\n",
      "Avramović’s article provides a rather revealing case study to demonstrate how this can be done but cast\n",
      "through a theoretical lens by examining institutional factors and dynamic capabilities. It also provides an\n",
      "overview of the emerging field of SupTech, as well as an outlook for the field based on the lessons learned for\n",
      "research, regulators, and industry.\n",
      "Indeed, learning from lessons is another human endeavor that cannot be replaced by machine or AI, for a very\n",
      "simple reason: humans need to internalize the lessons for themselves in order to actualize the meaning of\n",
      "learning, which is very different from its meaning as in the phrase ‘machine learning.’ Machine learning is an\n",
      "algorithmic process of revealing patterns and organizing knowledge (hopefully). Learning from a lesson\n",
      "requires a changing of behavior together with a changing of the tendency of having such behavior to ensure\n",
      "that either change is sustainable. The need of both changes to actualize the learning is perhaps best illustrated\n",
      "by the joke or reality for some: ‘Quitting smoking is easy—I have done that many times.’ Or in the case of\n",
      "ChatGPT, it will apologize profusely when told that its answer is wrong, but that does not necessarily mean\n",
      "that it would change its answer. Even when it does correct its answer in a particular case, it will repeat the same\n",
      "kind mistakes when prompted with a similar but differently worded instruction, as demonstrated by its\n",
      "persistent ability to ‘hallucinate’ (e.g., by making up many plausible-looking but hopelessly wrong\n",
      "biosketches.)\n",
      "Granted, sometimes we humans do no better than ChatGPT in this regard, or do not want to do better, when it\n",
      "comes to changing behaviors because of negative consequences. But even in that regard, humans are still one\n",
      "step ahead of ChatGPT, at least for now, as we often rationalize our behaviors by changing our evaluative\n",
      "metrics, perhaps subconsciously. However, when our humanity and humility are at their best, we not only\n",
      "actualize the lessons learned, we turn them into insights to generate principles for success. The article\n",
      "“Frontline Data Science: Lessons Learned From a Pandemic” by Emily A. Beck, Hannah Tavalire, and Jake\n",
      "Searcy (2023) does exactly that. The COVID-19 pandemic highlights both the importance and challenges of\n",
      "using data science for disaster response, with lack of accessibility, training, and flexibility being particularly\n",
      "problematic. Beck et al.’s article outlines the authors' experience building a COVID-19 Monitoring and\n",
      "Assessment Program and provides lessons learned and principles for success for future data scientists wishing\n",
      "to contribute to emergency response and disaster recovery efforts. It provides a particularly useful perspective\n",
      "because neither Beck nor Searcy started with the pertinent experience or training in epidemiology or health\n",
      "care, one being a geneticist and the other a particle physicist. Like many data scientists, we all had and have the\n",
      "strong desire to do something, as we know we can and should contribute to the fight against the pandemic, but\n",
      "we didn’t or don’t know how. The article’s delineation from getting started to informing future data scientists\n",
      "therefore is especially welcome and helpful.\n",
      "In particular, the lessons from the article have broader implications than just dealing with pandemics or\n",
      "disasters. For example, for anyone who truly cares about data science done right and has gotten their hands\n",
      "dirty, the main lesson of the article will resonate extremely well (replacing “testing” with ‘study’ in general),\n",
      "7Harvard Data Science Review • Issue 5.2, Spring 2023 Data Science and Engineering With Human in the Loop, Behind the\n",
      "Loop, and Above the Loop\n",
      "“The most important lesson learned … was that the data science team needed to be involved in the design of\n",
      "every aspect of testing for ensuring accuracy and quality assurance of data pipelines” (Beck et al., 2023). The\n",
      "article makes it clear that this necessity is mainly created by humans. Human errors are unavoidable, from\n",
      "typos on patients’ data to system glitches preventing prompt reporting to state agencies. But “data scientists can\n",
      "rapidly craft quality assurance and compliance solutions to catch and fix errors.” Together, the authors’\n",
      "experience and their four major lessons and five principles for success provide an exceedingly informative and\n",
      "concrete demonstration that data science is of the people, by the people, and for the people.\n",
      "Disclosure Statement\n",
      "Xiao-Li Meng has no financial or non-financial disclosures to share for this editorial.\n",
      "References\n",
      "Avramović, P. (2023). Digital transformation of financial regulators and the emergence of supervisory\n",
      "technologies (SupTech): A case study of the U.K. financial conduct authority. Harvard Data Science Review,\n",
      "5(2). https://doi.org/10.1162/99608f92.7a329be7\n",
      "Beck, E. A., Tavalire, H., & Searcy, J. (2023). Frontline data science: Lessons learned from a pandemic.\n",
      "Harvard Data Science Review, 5(2). https://doi.org/10.1162/99608f92.eea782bf\n",
      "Connolly, A., Hellerstein, J., Alterman, N., Beck, D., Fatland, R., Lazowska, E., Mandava, V., & Stone, S.\n",
      "(2023). Software engineering practices in academia: Promoting the 3Rs—readability, resilience, and reuse.\n",
      "Harvard Data Science Review, 5(2). https://doi.org/10.1162/99608f92.018bf012\n",
      "Davison, A. C. (2023). Some reminiscences of David Cox. Harvard Data Science Review, 5(2).\n",
      "https://doi.org/10.1162/99608f92.85038493\n",
      "Meng, X.-L. (2019). Data Science: An artificial ecosystem. Harvard Data Science Review, 1(1).\n",
      "https://doi.org/10.1162/99608f92.ba20f892\n",
      "Richardson, S., & Wermuth, N. (2023). Remembering David Cox. Harvard Data Science Review, 5(2).\n",
      "https://doi.org/10.1162/99608f92.35281d57\n",
      "Siegel, E. (2023). To deploy machine learning, you must manage operational change—Here is how UPS got it\n",
      "right. Harvard Data Science Review, 5(2). https://doi.org/10.1162/99608f92.73fc83a3\n",
      "Shah, K. M., & Saeed, A. A. (2023). Innovating a centuries-old sport: How emerging data analytics tools are\n",
      "redefining cricket. Harvard Data Science Review, 5(2). https://doi.org/10.1162/99608f92.1ea13423\n",
      "8Harvard Data Science Review • Issue 5.2, Spring 2023 Data Science and Engineering With Human in the Loop, Behind the\n",
      "Loop, and Above the Loop\n",
      "Stelmaszak, M., & Kline, K. (n.d.). Managing embedded data science teams for success: How managers can\n",
      "navigate the advantages and challenges of distributed data science. Harvard Data Science Review, 5(2).\n",
      "https://doi.org/10.1162/99608f92.1f068331\n",
      "©2023 Xiao-Li Meng. This editorial is licensed under a Creative Commons Attribution (CC BY 4.0)\n",
      "International license, except where otherwise indicated with respect to particular material included in the\n",
      "editorial.\n",
      "References\n",
      "Avramović, P. (2023). Digital Transformation of Financial Regulators and the Emergence of Supervisory\n",
      "Technologies (SupTech): A Case Study of the U.K. Financial Conduct Authority. Harvard Data Science\n",
      "Review, 5(2). https://doi.org/10.1162/99608f92.7a329be7 ↩\n",
      "Beck, E. A., Tavalire, H., & Searcy, J. (2023). Frontline Data Science: Lessons Learned From a Pandemic.\n",
      "Harvard Data Science Review, 5(2). https://doi.org/10.1162/99608f92.eea782bf ↩\n",
      "Blitzstein, J. K. (2023). Sir David R. Cox: A Beautiful Mind With a Beautiful Heart. Harvard Data Science\n",
      "Review, 5(2). https://doi.org/10.1162/99608f92.74fb2783 ↩\n",
      "Connolly, A., Hellerstein, J., Alterman, N., Beck, D., Fatland, R., Lazowska, E., Mandava, V., & Stone, S.\n",
      "(2023). Software Engineering Practices in Academia: Promoting the 3Rs—Readability, Resilience, and\n",
      "Reuse . Harvard Data Science Review, 5(2). https://doi.org/10.1162/99608f92.018bf012 ↩\n",
      "Davison, A. C. (2023). Some Reminiscences of David Cox. Harvard Data Science Review, 5(2).\n",
      "https://doi.org/10.1162/99608f92.85038493 ↩\n",
      "Meng, X.-L. (2019). Data Science: An Artificial Ecosystem. Harvard Data Science Review, 1(1).\n",
      "https://doi.org/10.1162/99608f92.ba20f892 ↩\n",
      "Richardson, S., & Wermuth, N. (2023). Remembering David Cox. Harvard Data Science Review, 5(2).\n",
      "https://doi.org/10.1162/99608f92.35281d57 ↩\n",
      "Shah, K. M., & Saeed, A. A. (2023). Innovating a Centuries-Old Sport: How Emerging Data Analytics\n",
      "Tools Are Redefining Cricket. Harvard Data Science Review, 5(2).\n",
      "https://doi.org/10.1162/99608f92.1ea13423 ↩\n",
      "Siegel, E. (2023). To Deploy Machine Learning, You Must Manage Operational Change—Here Is How\n",
      "UPS Got It Right . Harvard Data Science Review, 5(2). https://doi.org/10.1162/99608f92.73fc83a3 ↩\n",
      "Stelmaszak, M., & Kline, K. (2023). Managing Embedded Data Science Teams for Success: How Managers\n",
      "Can Navigate the Advantages and Challenges of Distributed Data Science. Harvard Data Science Review,\n",
      "5(2). https://doi.org/10.1162/99608f92.1f068331 ↩\n",
      "9\n"
     ]
    }
   ],
   "source": [
    "with pdfplumber.open(\"/Users/jaspreetbrar/Desktop/Classes/Stats3DA3/Assignment2/paper.pdf\") as pdf:\n",
    "    # Extract text from pages 1 to 9\n",
    "    text = \"\"\n",
    "    for i in range(1, 9):\n",
    "        page = pdf.pages[i]\n",
    "        text += page.extract_text()\n",
    "    print(text)"
   ]
  },
  {
   "cell_type": "markdown",
   "metadata": {},
   "source": [
    "\\newpage"
   ]
  },
  {
   "cell_type": "markdown",
   "metadata": {},
   "source": [
    "(4) Extract the text from pages 2 to 5."
   ]
  },
  {
   "cell_type": "code",
   "execution_count": 4,
   "metadata": {},
   "outputs": [
    {
     "name": "stdout",
     "output_type": "stream",
     "text": [
      "Harvard Data Science Review • Issue 5.2, Spring 2023 Data Science and Engineering With Human in the Loop, Behind the\n",
      "Loop, and Above the Loop\n",
      "The term human-in-the-loop (HITL) generally refers to the need for human interaction, intervention, and\n",
      "judgment to control or change the outcome of a process, and it is a practice that is being increasingly\n",
      "emphasized in machine learning, generative AI, and the like. For readers who have not enjoyed machine-\n",
      "assisted learning or who are comfortable with their human intelligences, it would not surprise me if some of\n",
      "you would wonder, upon hearing the term HITL, ‘Wait, when did we take humans out of the loop?’ The\n",
      "diversity of human minds guarantees that such a question would generate reactions ranging from being inspired\n",
      "to being despised. Regardless, however, the arrival of ChatGPT and other AI chatbots has made the mostly\n",
      "academic debate of machine intelligence versus human intelligence into a household conversation piece. It is\n",
      "therefore an apt time to turn such a rhetorical question into retrospection and reflection.\n",
      "With my human thinking in the loop, I probably can take any issue of HDSR to remind ourselves of the roles\n",
      "we humans play in the data science (DS) ecosystem. Indeed, as I wrote in the inaugural editorial, titled “Data\n",
      "Science: An Artificial Ecosystem,” “the term ‘artificial’ highlights both the fact that DS is a human construct\n",
      "and that it depends critically on computing advances” (Meng, 2019). (The same can and should be said about\n",
      "data engineering (DE), which can advance faster than DS, as we witnessed recently with the progression from\n",
      "GPT-n to GPT-(n+1), n<4.) However, the current issue is particularly fitting for this contemplation because it is\n",
      "the first HDSR issue with a special theme dedicated to a beautiful mind that came with a beautiful heart, a term\n",
      "that yet to be applied to any machine. As such, I ask for readers’ indulgence—and my fellow data scientists’\n",
      "forgiveness—for creating sibling rivalries to HITL.\n",
      "Human in the Loop: From Developers to Deployers\n",
      "As cliché as this may sound, humans are always in the loop for advancing data science or engineering at all\n",
      "fronts, literally and figuratively. Indeed, for those who don’t mind the label of anthropocentrist, the\n",
      "paraphrasing ‘DS/DE are of the people, by the people, and for the people’ might be a more arousing title for\n",
      "this editorial. Data are typically digital representations of some people’s mental activities or physical\n",
      "endeavors, and they are collected because some (other) people see the benefit to doing so. The benefits can be\n",
      "for the data subjects, the data collectors, or other people, which often include those yet to be born. To realize\n",
      "and optimize the benefit, yet more groups of people would be required for developing methods, implementing\n",
      "algorithms, interpreting and deploying the results, and so on, in order to reap the perceived benefits.\n",
      "For the Recreations in Randomness column, Kavya Mehul Shah and Ammaar Ahmed Saeed’s (2023) account\n",
      "on “Innovating a Centuries-Old Sport: How Emerging Data Analytics Tools Are Redefining Cricket” provides\n",
      "a concrete illustration of such human effort. For example, cricket highlights are short video clips that are\n",
      "collected because they can benefit players, coaches, and organizations. Traditionally the creation of these\n",
      "highlights “requires sports broadcasters and video editors to manually parse through hours of footage to\n",
      "identify exciting moments”—clearly a not very exciting process to say the least. Automated highlights\n",
      "generation is then a very welcome advance that requires both data science (e.g., semantic segmentation to\n",
      "2Harvard Data Science Review • Issue 5.2, Spring 2023 Data Science and Engineering With Human in the Loop, Behind the\n",
      "Loop, and Above the Loop\n",
      "identify “exciting moments”) and data engineering (e.g., effective software for routine applications). Much\n",
      "progress has been made in the last 20 years, as reviewed in the article. Yet the 2 decades of progress also\n",
      "indicate the amount of human effort required to automate the creation process, not to mention human effort\n",
      "needed in translating highlights into the desired benefit.\n",
      "As another indication of the human effort, when I initially opened the document file for this column article to\n",
      "prepare for this editorial, I was a bit surprised to see that the word count was about 4,600—far exceeding the\n",
      "normally expected 2,500 words for a column. In case a reader wonders why I was not aware of the length of a\n",
      "submission until the end stages, I am grateful to the interim Co-Editor-in-Chiefs, Francesca Dominici and\n",
      "David Parkes, whose dedication allowed me to take a real sabbatical (which incidentally gave me time to\n",
      "appreciate the benefit of sports). It turns out that the article has 65 references (which are not counted towards\n",
      "the 2,500 limit), which is an unusually extensive list even for a regular article. But it is fitting for this column\n",
      "since the list provides a chronological picture of human effort and progress in reshaping a half-millennium-old\n",
      "sport via data science and engineering. Indeed, it is almost certain that the list is still only a (non-random)\n",
      "sample.\n",
      "… and From Software Engineers to Data Science Managers\n",
      "The sabbatical year also afforded me the opportunity to join an international collaboration on assessing living\n",
      "conditions globally in general, and in Africa in particular, by combining ground-level survey data with satellite\n",
      "image data via deep learning. The data involved are treasures not only for the mission of the collaboration, but\n",
      "also for data science and engineering education in general. They exhibit almost the full spectrum of complexity\n",
      "and defects as routinely encountered in practice, including selection bias, measurement errors, loss of\n",
      "information due to privacy protection, mismatches in spatial, temporal, and contextual resolutions, and\n",
      "incomplete documentation of data provenance, just to provide a partial list. The collaboration team is also\n",
      "multi-faceted, involving multiple disciplines (e.g., computer science, engineering, sociology, statistics) and\n",
      "members in all career stages from undergraduate to senior researchers with a variety of working styles and who\n",
      "are driven by different interests or incentives. This collaborative experience, which is still ongoing, deepened\n",
      "my appreciation of two kinds of humans in the loop, so to speak.\n",
      "One kind of profession is software engineers, whose technical skills and teamwork (or lack thereof) typically\n",
      "govern the pace for progress. For complex projects, many methodological ideas need to be (stress) tested.\n",
      "These tests can take weeks or minutes, all depending on the engineers’ experiences and skills. For the project I\n",
      "am involved in, a clever implementation circumventing a map computation with mismatched resolutions sped\n",
      "up the test by several weeks. With those experiences still fresh, I literally thought I was daydreaming when I\n",
      "saw the article “Software Engineering Practices in Academia: Promoting the 3Rs—Readability, Resilience, and\n",
      "Reuse” by Andrew Connolly, Joseph Hellerstein, Naomi Alterman, David Beck, Rob Fatland, Ed Lazowska,\n",
      "Vani Mandava, and Sarah Stone (2023). The first section title says it all: “Good Data Science Requires High-\n",
      "Quality Software Engineering.” Its diagnosis of the major issues in academia is spot on, as academics tend to\n",
      "3Harvard Data Science Review • Issue 5.2, Spring 2023 Data Science and Engineering With Human in the Loop, Behind the\n",
      "Loop, and Above the Loop\n",
      "“address their software development needs by hiring graduate students, often without any formal training in\n",
      "software engineering,” and the vast majority of the software projects are created in an often-inefficient ‘3S’\n",
      "setting: single developer, single user, and single study. For any academics who are interested in improving the\n",
      "quality of their data science projects and of their life by reducing work inefficiency, the time invested on\n",
      "digesting this article is likely to be negligible compared to the time saved moving forward, because the article\n",
      "provides real-life successes, reasons, and recommendations—with specific recipes—for adopting the ‘3R’\n",
      "principle.\n",
      "The other kind of profession is data science managers. With a team of diverse expertise, interests, and work\n",
      "habits and schedules, and the nature of the project being multi-phased, having an all-around data science\n",
      "manager is another key for both the quality and speed of the project. For the collaboration I am involved with,\n",
      "things changed substantially once we had such a data science manager in place. A data science manager is\n",
      "more like a chief of staff to the intellectual leaders of a data science collaboration, which means that the\n",
      "manager needs to have sufficient technical, personal, and organizational skills to be effective. A crucial task for\n",
      "a data science manager is to help to identify, establish, and sustain a collaborative platform and working culture\n",
      "that is conducive to making the whole more than the sum of its parts, or at least not less. The latter can easily\n",
      "happen (and did happen even in my very limited experience) when there are miscommunications,\n",
      "misunderstandings, and mismatched expectations among different team members or groups. The manager\n",
      "needs to be a strategic thinker with sufficient know-how to recognize or anticipate weak links, devise solutions\n",
      "or preventive measures accordingly, and ultimately creative an incentivizing infrastructure to enhance team\n",
      "efficiency and team members’ desire to further the collaboration.\n",
      "With these reflections from my recent experiences, I was instantly attracted by another article in this issue,\n",
      "“Managing Embedded Data Science Teams for Success: How Managers Can Navigate the Advantages and\n",
      "Challenges of Distributed Data Science,” by Marta Stelmaszak and Kelsey Kline (2023). Through a case study,\n",
      "the authors summarize three advantages for the embedded structures, “1) agility in delivering quicker and\n",
      "better tailored analytics, 2) concentrated and cultivated data science expertise, and 3) emerging bottom-up\n",
      "solution ideas,” as well as three disadvantages: “1) growing away from the enterprise infrastructure, 2)\n",
      "duplicating data science efforts, and 3) weakening links with strategic impact.” Although the setup here is\n",
      "rather different from academic collaborations, the main conclusion of the article is the data science manager is\n",
      "the critical HITL to reap these advantages and curtail the disadvantages. To do so, the article argues that data\n",
      "science managers need to have aptitudes for all three managing directions: within a team (e.g., ability to\n",
      "balance workload for members with varying expertise), vertically in an organization (e.g., interpersonal skills\n",
      "to maintain team visibility at all levels of the organization), and horizontally across the organization (e.g.,\n",
      "capability to develop networks with other data science teams).\n",
      "The vital role of managing is furthered demonstrated in “To Deploy Machine Learning, You Must Manage\n",
      "Operational Change—Here Is How UPS Got It Right” by Eric Siegel (2023). The article starts with a telling\n",
      "4Harvard Data Science Review • Issue 5.2, Spring 2023 Data Science and Engineering With Human in the Loop, Behind the\n",
      "Loop, and Above the Loop\n",
      "story of how a trash collection company dumped a university generated route-optimizing plan that could cut its\n",
      "number of trash tracks by 50%. I won’t spoil the rest of the plot, which could easily be adapted into a script for\n",
      "a Hollywood movie on machine learning or AI (perhaps with the help of GPT-n), but only to repeat the\n",
      "metaphor Siegel used. The “rocket science” of machine learning for commercial use is easy. The hard part is\n",
      "getting the end product or process launched, which requires changing humans’ habits. That’s not rocket\n",
      "science; that’s beyond rocket science.\n",
      "Human Behind the Loop: With Beautiful Minds and Beautiful\n",
      "Hearts\n",
      "Much of the research of and discussions about HITL focus on the interaction between humans and machines.\n",
      "But as we just discussed, translating and transforming the advances in data science and engineering into actual\n",
      "value for human societies is a matter of interactions among humans. Arguably another kind of human\n",
      "interaction is even more important for the data science enterprise, namely the professional and interpersonal\n",
      "interactions among members of the data science ecosystem. A shining example is provided by the special\n",
      "theme in this issue celebrating the life and work of Sir David Cox, a giant in statistics and in science in general.\n",
      "In his long and extremely distinguished career, David served as a global model in everything he did. He was an\n",
      "extremely deep, broad, and influential scholar, a much-loved advisor of over 60 doctorial students, an\n",
      "exceedingly effective editor for Biometrika for 25 years, and a well-respected academic and professional leader\n",
      "(e.g., serving as Warden of Nuffield College, and as president of multiple professional societies). The 20\n",
      "articles in the special theme document many interactions with David in a myriad of ways and across many\n",
      "decades (and countries). Yet they reflect a common theme: the lasting impression and impact of the\n",
      "interactions. I am deeply grateful to the co-editors of this special theme, Sylvia Richardson and Nanny\n",
      "Wermuth, for organizing and introducing (Richardson & Wermuth, 2023) such a rich and heartwarming\n",
      "collection, and to all contributors for sharing their personal stories with all of us, to which I add my own.\n",
      "My first interaction with David took place when I was a PhD student in late 1980s, where I co-authored an\n",
      "article that was submitted to Biometrika. At that time, the review processes for most statistical journals were\n",
      "notoriously slow; it was rather common for the review process to take more than 6 months for the first round.\n",
      "Biometrika was an exception, despite having the smallest editorial board among all top-tier journals. Even with\n",
      "that expectation, I was rather surprised when we heard from David within 2 weeks of submission, and it was\n",
      "not a quick rejection letter. Rather, David had provided detailed comments and asked us to do a revision before\n",
      "he sent it out for a full review. I do not recall the details of David’s comments, but I remembered distinctively\n",
      "being very impressed by the promptness and insightfulness of the comments, which led to a much-improved\n",
      "revision, and ultimately my first publication in the tier-one journals in statistics.\n",
      "Years later I had an opportunity to meet with David in person, when I could no longer hold my curiosity and\n",
      "hence asked how he could handle so many articles personally, and yet with such efficiency. The answer he\n",
      "5\n"
     ]
    }
   ],
   "source": [
    "with pdfplumber.open(\"/Users/jaspreetbrar/Desktop/Classes/Stats3DA3/Assignment2/paper.pdf\") as pdf:\n",
    "    # Extract text from pages 2 to 5\n",
    "    text = \"\"\n",
    "    for i in range(1, 5):\n",
    "        page = pdf.pages[i]\n",
    "        text += page.extract_text()\n",
    "    print(text)"
   ]
  },
  {
   "cell_type": "markdown",
   "metadata": {},
   "source": [
    "\\newpage"
   ]
  },
  {
   "cell_type": "markdown",
   "metadata": {},
   "source": [
    "(5) Combine the text from these pages into a single string. "
   ]
  },
  {
   "cell_type": "code",
   "execution_count": 5,
   "metadata": {},
   "outputs": [
    {
     "name": "stdout",
     "output_type": "stream",
     "text": [
      "Harvard Data Science Review • Issue 5.2, Spring 2023 Data Science and Engineering With Human in the Loop, Behind the Loop, and Above the Loop The term human-in-the-loop (HITL) generally refers to the need for human interaction, intervention, and judgment to control or change the outcome of a process, and it is a practice that is being increasingly emphasized in machine learning, generative AI, and the like. For readers who have not enjoyed machine- assisted learning or who are comfortable with their human intelligences, it would not surprise me if some of you would wonder, upon hearing the term HITL, ‘Wait, when did we take humans out of the loop?’ The diversity of human minds guarantees that such a question would generate reactions ranging from being inspired to being despised. Regardless, however, the arrival of ChatGPT and other AI chatbots has made the mostly academic debate of machine intelligence versus human intelligence into a household conversation piece. It is therefore an apt time to turn such a rhetorical question into retrospection and reflection. With my human thinking in the loop, I probably can take any issue of HDSR to remind ourselves of the roles we humans play in the data science (DS) ecosystem. Indeed, as I wrote in the inaugural editorial, titled “Data Science: An Artificial Ecosystem,” “the term ‘artificial’ highlights both the fact that DS is a human construct and that it depends critically on computing advances” (Meng, 2019). (The same can and should be said about data engineering (DE), which can advance faster than DS, as we witnessed recently with the progression from GPT-n to GPT-(n+1), n<4.) However, the current issue is particularly fitting for this contemplation because it is the first HDSR issue with a special theme dedicated to a beautiful mind that came with a beautiful heart, a term that yet to be applied to any machine. As such, I ask for readers’ indulgence—and my fellow data scientists’ forgiveness—for creating sibling rivalries to HITL. Human in the Loop: From Developers to Deployers As cliché as this may sound, humans are always in the loop for advancing data science or engineering at all fronts, literally and figuratively. Indeed, for those who don’t mind the label of anthropocentrist, the paraphrasing ‘DS/DE are of the people, by the people, and for the people’ might be a more arousing title for this editorial. Data are typically digital representations of some people’s mental activities or physical endeavors, and they are collected because some (other) people see the benefit to doing so. The benefits can be for the data subjects, the data collectors, or other people, which often include those yet to be born. To realize and optimize the benefit, yet more groups of people would be required for developing methods, implementing algorithms, interpreting and deploying the results, and so on, in order to reap the perceived benefits. For the Recreations in Randomness column, Kavya Mehul Shah and Ammaar Ahmed Saeed’s (2023) account on “Innovating a Centuries-Old Sport: How Emerging Data Analytics Tools Are Redefining Cricket” provides a concrete illustration of such human effort. For example, cricket highlights are short video clips that are collected because they can benefit players, coaches, and organizations. Traditionally the creation of these highlights “requires sports broadcasters and video editors to manually parse through hours of footage to identify exciting moments”—clearly a not very exciting process to say the least. Automated highlights generation is then a very welcome advance that requires both data science (e.g., semantic segmentation to 2Harvard Data Science Review • Issue 5.2, Spring 2023 Data Science and Engineering With Human in the Loop, Behind the Loop, and Above the Loop identify “exciting moments”) and data engineering (e.g., effective software for routine applications). Much progress has been made in the last 20 years, as reviewed in the article. Yet the 2 decades of progress also indicate the amount of human effort required to automate the creation process, not to mention human effort needed in translating highlights into the desired benefit. As another indication of the human effort, when I initially opened the document file for this column article to prepare for this editorial, I was a bit surprised to see that the word count was about 4,600—far exceeding the normally expected 2,500 words for a column. In case a reader wonders why I was not aware of the length of a submission until the end stages, I am grateful to the interim Co-Editor-in-Chiefs, Francesca Dominici and David Parkes, whose dedication allowed me to take a real sabbatical (which incidentally gave me time to appreciate the benefit of sports). It turns out that the article has 65 references (which are not counted towards the 2,500 limit), which is an unusually extensive list even for a regular article. But it is fitting for this column since the list provides a chronological picture of human effort and progress in reshaping a half-millennium-old sport via data science and engineering. Indeed, it is almost certain that the list is still only a (non-random) sample. … and From Software Engineers to Data Science Managers The sabbatical year also afforded me the opportunity to join an international collaboration on assessing living conditions globally in general, and in Africa in particular, by combining ground-level survey data with satellite image data via deep learning. The data involved are treasures not only for the mission of the collaboration, but also for data science and engineering education in general. They exhibit almost the full spectrum of complexity and defects as routinely encountered in practice, including selection bias, measurement errors, loss of information due to privacy protection, mismatches in spatial, temporal, and contextual resolutions, and incomplete documentation of data provenance, just to provide a partial list. The collaboration team is also multi-faceted, involving multiple disciplines (e.g., computer science, engineering, sociology, statistics) and members in all career stages from undergraduate to senior researchers with a variety of working styles and who are driven by different interests or incentives. This collaborative experience, which is still ongoing, deepened my appreciation of two kinds of humans in the loop, so to speak. One kind of profession is software engineers, whose technical skills and teamwork (or lack thereof) typically govern the pace for progress. For complex projects, many methodological ideas need to be (stress) tested. These tests can take weeks or minutes, all depending on the engineers’ experiences and skills. For the project I am involved in, a clever implementation circumventing a map computation with mismatched resolutions sped up the test by several weeks. With those experiences still fresh, I literally thought I was daydreaming when I saw the article “Software Engineering Practices in Academia: Promoting the 3Rs—Readability, Resilience, and Reuse” by Andrew Connolly, Joseph Hellerstein, Naomi Alterman, David Beck, Rob Fatland, Ed Lazowska, Vani Mandava, and Sarah Stone (2023). The first section title says it all: “Good Data Science Requires High- Quality Software Engineering.” Its diagnosis of the major issues in academia is spot on, as academics tend to 3Harvard Data Science Review • Issue 5.2, Spring 2023 Data Science and Engineering With Human in the Loop, Behind the Loop, and Above the Loop “address their software development needs by hiring graduate students, often without any formal training in software engineering,” and the vast majority of the software projects are created in an often-inefficient ‘3S’ setting: single developer, single user, and single study. For any academics who are interested in improving the quality of their data science projects and of their life by reducing work inefficiency, the time invested on digesting this article is likely to be negligible compared to the time saved moving forward, because the article provides real-life successes, reasons, and recommendations—with specific recipes—for adopting the ‘3R’ principle. The other kind of profession is data science managers. With a team of diverse expertise, interests, and work habits and schedules, and the nature of the project being multi-phased, having an all-around data science manager is another key for both the quality and speed of the project. For the collaboration I am involved with, things changed substantially once we had such a data science manager in place. A data science manager is more like a chief of staff to the intellectual leaders of a data science collaboration, which means that the manager needs to have sufficient technical, personal, and organizational skills to be effective. A crucial task for a data science manager is to help to identify, establish, and sustain a collaborative platform and working culture that is conducive to making the whole more than the sum of its parts, or at least not less. The latter can easily happen (and did happen even in my very limited experience) when there are miscommunications, misunderstandings, and mismatched expectations among different team members or groups. The manager needs to be a strategic thinker with sufficient know-how to recognize or anticipate weak links, devise solutions or preventive measures accordingly, and ultimately creative an incentivizing infrastructure to enhance team efficiency and team members’ desire to further the collaboration. With these reflections from my recent experiences, I was instantly attracted by another article in this issue, “Managing Embedded Data Science Teams for Success: How Managers Can Navigate the Advantages and Challenges of Distributed Data Science,” by Marta Stelmaszak and Kelsey Kline (2023). Through a case study, the authors summarize three advantages for the embedded structures, “1) agility in delivering quicker and better tailored analytics, 2) concentrated and cultivated data science expertise, and 3) emerging bottom-up solution ideas,” as well as three disadvantages: “1) growing away from the enterprise infrastructure, 2) duplicating data science efforts, and 3) weakening links with strategic impact.” Although the setup here is rather different from academic collaborations, the main conclusion of the article is the data science manager is the critical HITL to reap these advantages and curtail the disadvantages. To do so, the article argues that data science managers need to have aptitudes for all three managing directions: within a team (e.g., ability to balance workload for members with varying expertise), vertically in an organization (e.g., interpersonal skills to maintain team visibility at all levels of the organization), and horizontally across the organization (e.g., capability to develop networks with other data science teams). The vital role of managing is furthered demonstrated in “To Deploy Machine Learning, You Must Manage Operational Change—Here Is How UPS Got It Right” by Eric Siegel (2023). The article starts with a telling 4Harvard Data Science Review • Issue 5.2, Spring 2023 Data Science and Engineering With Human in the Loop, Behind the Loop, and Above the Loop story of how a trash collection company dumped a university generated route-optimizing plan that could cut its number of trash tracks by 50%. I won’t spoil the rest of the plot, which could easily be adapted into a script for a Hollywood movie on machine learning or AI (perhaps with the help of GPT-n), but only to repeat the metaphor Siegel used. The “rocket science” of machine learning for commercial use is easy. The hard part is getting the end product or process launched, which requires changing humans’ habits. That’s not rocket science; that’s beyond rocket science. Human Behind the Loop: With Beautiful Minds and Beautiful Hearts Much of the research of and discussions about HITL focus on the interaction between humans and machines. But as we just discussed, translating and transforming the advances in data science and engineering into actual value for human societies is a matter of interactions among humans. Arguably another kind of human interaction is even more important for the data science enterprise, namely the professional and interpersonal interactions among members of the data science ecosystem. A shining example is provided by the special theme in this issue celebrating the life and work of Sir David Cox, a giant in statistics and in science in general. In his long and extremely distinguished career, David served as a global model in everything he did. He was an extremely deep, broad, and influential scholar, a much-loved advisor of over 60 doctorial students, an exceedingly effective editor for Biometrika for 25 years, and a well-respected academic and professional leader (e.g., serving as Warden of Nuffield College, and as president of multiple professional societies). The 20 articles in the special theme document many interactions with David in a myriad of ways and across many decades (and countries). Yet they reflect a common theme: the lasting impression and impact of the interactions. I am deeply grateful to the co-editors of this special theme, Sylvia Richardson and Nanny Wermuth, for organizing and introducing (Richardson & Wermuth, 2023) such a rich and heartwarming collection, and to all contributors for sharing their personal stories with all of us, to which I add my own. My first interaction with David took place when I was a PhD student in late 1980s, where I co-authored an article that was submitted to Biometrika. At that time, the review processes for most statistical journals were notoriously slow; it was rather common for the review process to take more than 6 months for the first round. Biometrika was an exception, despite having the smallest editorial board among all top-tier journals. Even with that expectation, I was rather surprised when we heard from David within 2 weeks of submission, and it was not a quick rejection letter. Rather, David had provided detailed comments and asked us to do a revision before he sent it out for a full review. I do not recall the details of David’s comments, but I remembered distinctively being very impressed by the promptness and insightfulness of the comments, which led to a much-improved revision, and ultimately my first publication in the tier-one journals in statistics. Years later I had an opportunity to meet with David in person, when I could no longer hold my curiosity and hence asked how he could handle so many articles personally, and yet with such efficiency. The answer he 5\n"
     ]
    }
   ],
   "source": [
    "# Combine the text from pages 2 to 5 into a single string\n",
    "combined_text = text.replace('\\n', ' ')\n",
    "print(combined_text)"
   ]
  },
  {
   "cell_type": "markdown",
   "metadata": {},
   "source": [
    "\\newpage"
   ]
  },
  {
   "cell_type": "markdown",
   "metadata": {},
   "source": [
    "(6) Split the string by lines using `\\n`."
   ]
  },
  {
   "cell_type": "code",
   "execution_count": 6,
   "metadata": {},
   "outputs": [
    {
     "name": "stdout",
     "output_type": "stream",
     "text": [
      "['Harvard Data Science Review • Issue 5.2, Spring 2023 Data Science and Engineering With Human in the Loop, Behind the Loop, and Above the Loop The term human-in-the-loop (HITL) generally refers to the need for human interaction, intervention, and judgment to control or change the outcome of a process, and it is a practice that is being increasingly emphasized in machine learning, generative AI, and the like. For readers who have not enjoyed machine- assisted learning or who are comfortable with their human intelligences, it would not surprise me if some of you would wonder, upon hearing the term HITL, ‘Wait, when did we take humans out of the loop?’ The diversity of human minds guarantees that such a question would generate reactions ranging from being inspired to being despised. Regardless, however, the arrival of ChatGPT and other AI chatbots has made the mostly academic debate of machine intelligence versus human intelligence into a household conversation piece. It is therefore an apt time to turn such a rhetorical question into retrospection and reflection. With my human thinking in the loop, I probably can take any issue of HDSR to remind ourselves of the roles we humans play in the data science (DS) ecosystem. Indeed, as I wrote in the inaugural editorial, titled “Data Science: An Artificial Ecosystem,” “the term ‘artificial’ highlights both the fact that DS is a human construct and that it depends critically on computing advances” (Meng, 2019). (The same can and should be said about data engineering (DE), which can advance faster than DS, as we witnessed recently with the progression from GPT-n to GPT-(n+1), n<4.) However, the current issue is particularly fitting for this contemplation because it is the first HDSR issue with a special theme dedicated to a beautiful mind that came with a beautiful heart, a term that yet to be applied to any machine. As such, I ask for readers’ indulgence—and my fellow data scientists’ forgiveness—for creating sibling rivalries to HITL. Human in the Loop: From Developers to Deployers As cliché as this may sound, humans are always in the loop for advancing data science or engineering at all fronts, literally and figuratively. Indeed, for those who don’t mind the label of anthropocentrist, the paraphrasing ‘DS/DE are of the people, by the people, and for the people’ might be a more arousing title for this editorial. Data are typically digital representations of some people’s mental activities or physical endeavors, and they are collected because some (other) people see the benefit to doing so. The benefits can be for the data subjects, the data collectors, or other people, which often include those yet to be born. To realize and optimize the benefit, yet more groups of people would be required for developing methods, implementing algorithms, interpreting and deploying the results, and so on, in order to reap the perceived benefits. For the Recreations in Randomness column, Kavya Mehul Shah and Ammaar Ahmed Saeed’s (2023) account on “Innovating a Centuries-Old Sport: How Emerging Data Analytics Tools Are Redefining Cricket” provides a concrete illustration of such human effort. For example, cricket highlights are short video clips that are collected because they can benefit players, coaches, and organizations. Traditionally the creation of these highlights “requires sports broadcasters and video editors to manually parse through hours of footage to identify exciting moments”—clearly a not very exciting process to say the least. Automated highlights generation is then a very welcome advance that requires both data science (e.g., semantic segmentation to 2Harvard Data Science Review • Issue 5.2, Spring 2023 Data Science and Engineering With Human in the Loop, Behind the Loop, and Above the Loop identify “exciting moments”) and data engineering (e.g., effective software for routine applications). Much progress has been made in the last 20 years, as reviewed in the article. Yet the 2 decades of progress also indicate the amount of human effort required to automate the creation process, not to mention human effort needed in translating highlights into the desired benefit. As another indication of the human effort, when I initially opened the document file for this column article to prepare for this editorial, I was a bit surprised to see that the word count was about 4,600—far exceeding the normally expected 2,500 words for a column. In case a reader wonders why I was not aware of the length of a submission until the end stages, I am grateful to the interim Co-Editor-in-Chiefs, Francesca Dominici and David Parkes, whose dedication allowed me to take a real sabbatical (which incidentally gave me time to appreciate the benefit of sports). It turns out that the article has 65 references (which are not counted towards the 2,500 limit), which is an unusually extensive list even for a regular article. But it is fitting for this column since the list provides a chronological picture of human effort and progress in reshaping a half-millennium-old sport via data science and engineering. Indeed, it is almost certain that the list is still only a (non-random) sample. … and From Software Engineers to Data Science Managers The sabbatical year also afforded me the opportunity to join an international collaboration on assessing living conditions globally in general, and in Africa in particular, by combining ground-level survey data with satellite image data via deep learning. The data involved are treasures not only for the mission of the collaboration, but also for data science and engineering education in general. They exhibit almost the full spectrum of complexity and defects as routinely encountered in practice, including selection bias, measurement errors, loss of information due to privacy protection, mismatches in spatial, temporal, and contextual resolutions, and incomplete documentation of data provenance, just to provide a partial list. The collaboration team is also multi-faceted, involving multiple disciplines (e.g., computer science, engineering, sociology, statistics) and members in all career stages from undergraduate to senior researchers with a variety of working styles and who are driven by different interests or incentives. This collaborative experience, which is still ongoing, deepened my appreciation of two kinds of humans in the loop, so to speak. One kind of profession is software engineers, whose technical skills and teamwork (or lack thereof) typically govern the pace for progress. For complex projects, many methodological ideas need to be (stress) tested. These tests can take weeks or minutes, all depending on the engineers’ experiences and skills. For the project I am involved in, a clever implementation circumventing a map computation with mismatched resolutions sped up the test by several weeks. With those experiences still fresh, I literally thought I was daydreaming when I saw the article “Software Engineering Practices in Academia: Promoting the 3Rs—Readability, Resilience, and Reuse” by Andrew Connolly, Joseph Hellerstein, Naomi Alterman, David Beck, Rob Fatland, Ed Lazowska, Vani Mandava, and Sarah Stone (2023). The first section title says it all: “Good Data Science Requires High- Quality Software Engineering.” Its diagnosis of the major issues in academia is spot on, as academics tend to 3Harvard Data Science Review • Issue 5.2, Spring 2023 Data Science and Engineering With Human in the Loop, Behind the Loop, and Above the Loop “address their software development needs by hiring graduate students, often without any formal training in software engineering,” and the vast majority of the software projects are created in an often-inefficient ‘3S’ setting: single developer, single user, and single study. For any academics who are interested in improving the quality of their data science projects and of their life by reducing work inefficiency, the time invested on digesting this article is likely to be negligible compared to the time saved moving forward, because the article provides real-life successes, reasons, and recommendations—with specific recipes—for adopting the ‘3R’ principle. The other kind of profession is data science managers. With a team of diverse expertise, interests, and work habits and schedules, and the nature of the project being multi-phased, having an all-around data science manager is another key for both the quality and speed of the project. For the collaboration I am involved with, things changed substantially once we had such a data science manager in place. A data science manager is more like a chief of staff to the intellectual leaders of a data science collaboration, which means that the manager needs to have sufficient technical, personal, and organizational skills to be effective. A crucial task for a data science manager is to help to identify, establish, and sustain a collaborative platform and working culture that is conducive to making the whole more than the sum of its parts, or at least not less. The latter can easily happen (and did happen even in my very limited experience) when there are miscommunications, misunderstandings, and mismatched expectations among different team members or groups. The manager needs to be a strategic thinker with sufficient know-how to recognize or anticipate weak links, devise solutions or preventive measures accordingly, and ultimately creative an incentivizing infrastructure to enhance team efficiency and team members’ desire to further the collaboration. With these reflections from my recent experiences, I was instantly attracted by another article in this issue, “Managing Embedded Data Science Teams for Success: How Managers Can Navigate the Advantages and Challenges of Distributed Data Science,” by Marta Stelmaszak and Kelsey Kline (2023). Through a case study, the authors summarize three advantages for the embedded structures, “1) agility in delivering quicker and better tailored analytics, 2) concentrated and cultivated data science expertise, and 3) emerging bottom-up solution ideas,” as well as three disadvantages: “1) growing away from the enterprise infrastructure, 2) duplicating data science efforts, and 3) weakening links with strategic impact.” Although the setup here is rather different from academic collaborations, the main conclusion of the article is the data science manager is the critical HITL to reap these advantages and curtail the disadvantages. To do so, the article argues that data science managers need to have aptitudes for all three managing directions: within a team (e.g., ability to balance workload for members with varying expertise), vertically in an organization (e.g., interpersonal skills to maintain team visibility at all levels of the organization), and horizontally across the organization (e.g., capability to develop networks with other data science teams). The vital role of managing is furthered demonstrated in “To Deploy Machine Learning, You Must Manage Operational Change—Here Is How UPS Got It Right” by Eric Siegel (2023). The article starts with a telling 4Harvard Data Science Review • Issue 5.2, Spring 2023 Data Science and Engineering With Human in the Loop, Behind the Loop, and Above the Loop story of how a trash collection company dumped a university generated route-optimizing plan that could cut its number of trash tracks by 50%. I won’t spoil the rest of the plot, which could easily be adapted into a script for a Hollywood movie on machine learning or AI (perhaps with the help of GPT-n), but only to repeat the metaphor Siegel used. The “rocket science” of machine learning for commercial use is easy. The hard part is getting the end product or process launched, which requires changing humans’ habits. That’s not rocket science; that’s beyond rocket science. Human Behind the Loop: With Beautiful Minds and Beautiful Hearts Much of the research of and discussions about HITL focus on the interaction between humans and machines. But as we just discussed, translating and transforming the advances in data science and engineering into actual value for human societies is a matter of interactions among humans. Arguably another kind of human interaction is even more important for the data science enterprise, namely the professional and interpersonal interactions among members of the data science ecosystem. A shining example is provided by the special theme in this issue celebrating the life and work of Sir David Cox, a giant in statistics and in science in general. In his long and extremely distinguished career, David served as a global model in everything he did. He was an extremely deep, broad, and influential scholar, a much-loved advisor of over 60 doctorial students, an exceedingly effective editor for Biometrika for 25 years, and a well-respected academic and professional leader (e.g., serving as Warden of Nuffield College, and as president of multiple professional societies). The 20 articles in the special theme document many interactions with David in a myriad of ways and across many decades (and countries). Yet they reflect a common theme: the lasting impression and impact of the interactions. I am deeply grateful to the co-editors of this special theme, Sylvia Richardson and Nanny Wermuth, for organizing and introducing (Richardson & Wermuth, 2023) such a rich and heartwarming collection, and to all contributors for sharing their personal stories with all of us, to which I add my own. My first interaction with David took place when I was a PhD student in late 1980s, where I co-authored an article that was submitted to Biometrika. At that time, the review processes for most statistical journals were notoriously slow; it was rather common for the review process to take more than 6 months for the first round. Biometrika was an exception, despite having the smallest editorial board among all top-tier journals. Even with that expectation, I was rather surprised when we heard from David within 2 weeks of submission, and it was not a quick rejection letter. Rather, David had provided detailed comments and asked us to do a revision before he sent it out for a full review. I do not recall the details of David’s comments, but I remembered distinctively being very impressed by the promptness and insightfulness of the comments, which led to a much-improved revision, and ultimately my first publication in the tier-one journals in statistics. Years later I had an opportunity to meet with David in person, when I could no longer hold my curiosity and hence asked how he could handle so many articles personally, and yet with such efficiency. The answer he 5']\n"
     ]
    }
   ],
   "source": [
    "lines = combined_text.split('\\n')\n",
    "print(lines)"
   ]
  },
  {
   "cell_type": "markdown",
   "metadata": {},
   "source": [
    "\\newpage"
   ]
  },
  {
   "cell_type": "markdown",
   "metadata": {},
   "source": [
    "(7) Create a pandas data frame named `df` with a column labeled `line` containing the split lines."
   ]
  },
  {
   "cell_type": "code",
   "execution_count": 7,
   "metadata": {},
   "outputs": [
    {
     "name": "stdout",
     "output_type": "stream",
     "text": [
      "                                                line\n",
      "0  Harvard Data Science Review • Issue 5.2, Sprin...\n"
     ]
    }
   ],
   "source": [
    "df = pd.DataFrame({'line': lines})\n",
    "print(df)"
   ]
  },
  {
   "cell_type": "markdown",
   "metadata": {},
   "source": [
    "\\newpage"
   ]
  },
  {
   "cell_type": "markdown",
   "metadata": {},
   "source": [
    "(8) Break each line into individual words."
   ]
  },
  {
   "cell_type": "code",
   "execution_count": 8,
   "metadata": {},
   "outputs": [
    {
     "name": "stdout",
     "output_type": "stream",
     "text": [
      "                                                 line       words\n",
      "0   Harvard Data Science Review • Issue 5.2, Sprin...     harvard\n",
      "0   Harvard Data Science Review • Issue 5.2, Sprin...        data\n",
      "0   Harvard Data Science Review • Issue 5.2, Sprin...     science\n",
      "0   Harvard Data Science Review • Issue 5.2, Sprin...      review\n",
      "0   Harvard Data Science Review • Issue 5.2, Sprin...       issue\n",
      "..                                                ...         ...\n",
      "0   Harvard Data Science Review • Issue 5.2, Sprin...  efficiency\n",
      "0   Harvard Data Science Review • Issue 5.2, Sprin...         the\n",
      "0   Harvard Data Science Review • Issue 5.2, Sprin...      answer\n",
      "0   Harvard Data Science Review • Issue 5.2, Sprin...          he\n",
      "0   Harvard Data Science Review • Issue 5.2, Sprin...           5\n",
      "\n",
      "[2366 rows x 2 columns]\n"
     ]
    }
   ],
   "source": [
    "df['words'] = df['line'].apply(lambda x: re.findall(r'\\b\\w+\\b', x.lower()))\n",
    "df = df.explode('words')\n",
    "print(df)"
   ]
  },
  {
   "cell_type": "markdown",
   "metadata": {},
   "source": [
    "\\newpage"
   ]
  },
  {
   "cell_type": "markdown",
   "metadata": {},
   "source": [
    "(9) Convert each word into a separate row in the data frame."
   ]
  },
  {
   "cell_type": "code",
   "execution_count": 9,
   "metadata": {},
   "outputs": [
    {
     "name": "stdout",
     "output_type": "stream",
     "text": [
      "                                                 line       words\n",
      "0   Harvard Data Science Review • Issue 5.2, Sprin...     harvard\n",
      "0   Harvard Data Science Review • Issue 5.2, Sprin...        data\n",
      "0   Harvard Data Science Review • Issue 5.2, Sprin...     science\n",
      "0   Harvard Data Science Review • Issue 5.2, Sprin...      review\n",
      "0   Harvard Data Science Review • Issue 5.2, Sprin...       issue\n",
      "..                                                ...         ...\n",
      "0   Harvard Data Science Review • Issue 5.2, Sprin...  efficiency\n",
      "0   Harvard Data Science Review • Issue 5.2, Sprin...         the\n",
      "0   Harvard Data Science Review • Issue 5.2, Sprin...      answer\n",
      "0   Harvard Data Science Review • Issue 5.2, Sprin...          he\n",
      "0   Harvard Data Science Review • Issue 5.2, Sprin...           5\n",
      "\n",
      "[2366 rows x 2 columns]\n"
     ]
    }
   ],
   "source": [
    "df = df.explode('words')\n",
    "print(df)"
   ]
  },
  {
   "cell_type": "markdown",
   "metadata": {},
   "source": [
    "\\newpage"
   ]
  },
  {
   "cell_type": "markdown",
   "metadata": {},
   "source": [
    "(10) Convert all words to lowercase."
   ]
  },
  {
   "cell_type": "code",
   "execution_count": 10,
   "metadata": {},
   "outputs": [
    {
     "name": "stdout",
     "output_type": "stream",
     "text": [
      "                                                 line       words\n",
      "0   Harvard Data Science Review • Issue 5.2, Sprin...     harvard\n",
      "0   Harvard Data Science Review • Issue 5.2, Sprin...        data\n",
      "0   Harvard Data Science Review • Issue 5.2, Sprin...     science\n",
      "0   Harvard Data Science Review • Issue 5.2, Sprin...      review\n",
      "0   Harvard Data Science Review • Issue 5.2, Sprin...       issue\n",
      "..                                                ...         ...\n",
      "0   Harvard Data Science Review • Issue 5.2, Sprin...  efficiency\n",
      "0   Harvard Data Science Review • Issue 5.2, Sprin...         the\n",
      "0   Harvard Data Science Review • Issue 5.2, Sprin...      answer\n",
      "0   Harvard Data Science Review • Issue 5.2, Sprin...          he\n",
      "0   Harvard Data Science Review • Issue 5.2, Sprin...           5\n",
      "\n",
      "[2366 rows x 2 columns]\n"
     ]
    }
   ],
   "source": [
    "df['words'] = df['words'].str.lower()\n",
    "print(df)"
   ]
  },
  {
   "cell_type": "markdown",
   "metadata": {},
   "source": [
    "\\newpage"
   ]
  },
  {
   "cell_type": "markdown",
   "metadata": {},
   "source": [
    "(11) Remove stop words."
   ]
  },
  {
   "cell_type": "code",
   "execution_count": 11,
   "metadata": {},
   "outputs": [
    {
     "name": "stdout",
     "output_type": "stream",
     "text": [
      "                                                 line       words\n",
      "0   Harvard Data Science Review • Issue 5.2, Sprin...     harvard\n",
      "0   Harvard Data Science Review • Issue 5.2, Sprin...        data\n",
      "0   Harvard Data Science Review • Issue 5.2, Sprin...     science\n",
      "0   Harvard Data Science Review • Issue 5.2, Sprin...      review\n",
      "0   Harvard Data Science Review • Issue 5.2, Sprin...       issue\n",
      "..                                                ...         ...\n",
      "0   Harvard Data Science Review • Issue 5.2, Sprin...  personally\n",
      "0   Harvard Data Science Review • Issue 5.2, Sprin...         yet\n",
      "0   Harvard Data Science Review • Issue 5.2, Sprin...  efficiency\n",
      "0   Harvard Data Science Review • Issue 5.2, Sprin...      answer\n",
      "0   Harvard Data Science Review • Issue 5.2, Sprin...           5\n",
      "\n",
      "[1369 rows x 2 columns]\n"
     ]
    }
   ],
   "source": [
    "# Define the stop words\n",
    "stop_words = set(stopwords.words('english'))\n",
    "\n",
    "# Remove stop words from the 'words' column\n",
    "df = df[~df['words'].isin(stop_words)]\n",
    "print(df)"
   ]
  },
  {
   "cell_type": "markdown",
   "metadata": {},
   "source": [
    "\\newpage"
   ]
  },
  {
   "cell_type": "markdown",
   "metadata": {},
   "source": [
    "(12) Remove unsuitable words using the following steps:  \n",
    "\n",
    "\\color{blue}\n",
    "\n",
    "Hint:\n",
    "\n",
    "(i) Remove rows where the `word` column contains punctuation using\n",
    "    - `str.contains(r'[,.•‘”“:’;\\(\\)\\[\\]]', regex=True)]`\n",
    "(ii) Remove rows where the `word` column contains numbers using:\n",
    "    - `str.contains(r'\\d', regex=True)]`\n",
    "(iii) Remove rows where the `word` column contains single letters using:\n",
    "    - `str.contains(r'^[a-z]$', regex=True)]`\n",
    "\n",
    "\\color{black}"
   ]
  },
  {
   "cell_type": "code",
   "execution_count": 12,
   "metadata": {},
   "outputs": [
    {
     "name": "stdout",
     "output_type": "stream",
     "text": [
      "                                                 line       words\n",
      "0   Harvard Data Science Review • Issue 5.2, Sprin...     harvard\n",
      "0   Harvard Data Science Review • Issue 5.2, Sprin...        data\n",
      "0   Harvard Data Science Review • Issue 5.2, Sprin...     science\n",
      "0   Harvard Data Science Review • Issue 5.2, Sprin...      review\n",
      "0   Harvard Data Science Review • Issue 5.2, Sprin...       issue\n",
      "..                                                ...         ...\n",
      "0   Harvard Data Science Review • Issue 5.2, Sprin...    articles\n",
      "0   Harvard Data Science Review • Issue 5.2, Sprin...  personally\n",
      "0   Harvard Data Science Review • Issue 5.2, Sprin...         yet\n",
      "0   Harvard Data Science Review • Issue 5.2, Sprin...  efficiency\n",
      "0   Harvard Data Science Review • Issue 5.2, Sprin...      answer\n",
      "\n",
      "[1302 rows x 2 columns]\n"
     ]
    }
   ],
   "source": [
    "# Remove rows where the 'words' column contains punctuation\n",
    "df = df[~df['words'].str.contains(r'[,.•‘”“:’;\\(\\)\\[\\]]', regex=True)]\n",
    "\n",
    "# Remove rows where the 'words' column contains numbers\n",
    "df = df[~df['words'].str.contains(r'\\d', regex=True)]\n",
    "\n",
    "# Remove rows where the 'words' column contains single letters\n",
    "df = df[~df['words'].str.contains(r'^[a-z]$', regex=True)]\n",
    "\n",
    "print(df)"
   ]
  },
  {
   "cell_type": "markdown",
   "metadata": {},
   "source": [
    "\\newpage"
   ]
  },
  {
   "cell_type": "markdown",
   "metadata": {},
   "source": [
    "(13) Create a term-frequency data frame. \n",
    "\n",
    "\\color{blue}\n",
    "    \n",
    "    Hint: \n",
    "  \n",
    "(i) Calculate the frequency of each unique word using: `value_counts().reset_index()`\n",
    "(ii) Save the result in a DataFrame called `freq`.\n",
    "\n",
    "\\color{black}"
   ]
  },
  {
   "cell_type": "code",
   "execution_count": 13,
   "metadata": {},
   "outputs": [
    {
     "name": "stdout",
     "output_type": "stream",
     "text": [
      "            word  frequency\n",
      "0           data         44\n",
      "1        science         38\n",
      "2          human         20\n",
      "3           loop         19\n",
      "4    engineering         14\n",
      "..           ...        ...\n",
      "783        image          1\n",
      "784    treasures          1\n",
      "785      mission          1\n",
      "786    education          1\n",
      "787       answer          1\n",
      "\n",
      "[788 rows x 2 columns]\n"
     ]
    }
   ],
   "source": [
    "# Calculate the frequency of each unique word\n",
    "freq = df['words'].value_counts().reset_index()\n",
    "\n",
    "# Rename the columns for better readability\n",
    "freq.columns = ['word', 'frequency']\n",
    "\n",
    "print(freq)"
   ]
  },
  {
   "cell_type": "markdown",
   "metadata": {},
   "source": [
    "\\newpage"
   ]
  },
  {
   "cell_type": "markdown",
   "metadata": {},
   "source": [
    "(14) Generate a word cloud for the most frequently occurring words (e.g., the top 10 words)."
   ]
  },
  {
   "cell_type": "code",
   "execution_count": 14,
   "metadata": {},
   "outputs": [
    {
     "data": {
      "image/png": "[encoded data removed]",
      "text/plain": [
       "<Figure size 1000x500 with 1 Axes>"
      ]
     },
     "metadata": {},
     "output_type": "display_data"
    }
   ],
   "source": [
    "# Generate a word cloud for the top 10 most frequently occurring words\n",
    "top_words = freq.head(10)\n",
    "wordcloud = WordCloud(width=800, height=400, background_color='white').generate_from_frequencies(dict(zip(top_words['word'], top_words['frequency'])))\n",
    "\n",
    "# Plot the word cloud\n",
    "plt.figure(figsize=(10, 5))\n",
    "plt.imshow(wordcloud, interpolation='bilinear')\n",
    "plt.axis('off')\n",
    "plt.show()"
   ]
  },
  {
   "cell_type": "markdown",
   "metadata": {},
   "source": [
    "\\newpage"
   ]
  },
  {
   "cell_type": "markdown",
   "metadata": {},
   "source": [
    "(15) Write a summary paragraph (at least two statements) about your word cloud. The summary can include any limitations of your analysis and provide context based on the chosen text."
   ]
  },
  {
   "cell_type": "markdown",
   "metadata": {},
   "source": [
    "The word cloud generated shown that data science is the most prevalent word in the PDF as it is the largest. The second most common words found in the PDF is loop and human."
   ]
  },
  {
   "cell_type": "markdown",
   "metadata": {},
   "source": [
    "\\newpage"
   ]
  },
  {
   "cell_type": "markdown",
   "metadata": {},
   "source": [
    "## Question 2\n",
    "\n",
    "Greenhouse gases (GHGs) play a significant role in global warming by capturing and retaining solar heat energy, leading to elevated global temperatures. In 2004, Canada launched the Greenhouse Gas Reporting Program (GHGRP) to monitor and record emissions from facilities that release 10 kilotonnes or more of greenhouse gases, measured in CO2-equivalent units. Facilities meeting this threshold are required to submit annual reports to Environment and Climate Change Canada. The dataset is publicly accessible through Canada’s Open Government Portal: [\\color{blue} Greenhouse Gas Reporting Program (GHGRP) - Facility Greenhouse Gas (GHG) Data\\color{black}](https://open.canada.ca/data/en/dataset/a8ba14b7-7f23-462a-bdbb-83b0ef629823).\n",
    "\n",
    "For Question 2, we have downloaded the dataset [\\color{blue} PDGES-GHGRP-GHGEmissionsGES-2004-Present.csv \\color{black}](https://data-donnees.az.ec.gc.ca/data/substances/monitor/greenhouse-gas-reporting-program-ghgrp-facility-greenhouse-gas-ghg-data/PDGES-GHGRP-GHGEmissionsGES-2004-Present.csv) from the portal. \n",
    "\n",
    "This analysis focuses on creating a Shiny App to explore trends in greenhouse gas emissions across Canada’s provinces and territories, measured in CO2-equivalent units.\n",
    "\n",
    "\n",
    "### Data dictionary: \n",
    "\n",
    "The dataset, spanning from 2004 to the present, includes emissions data (in tonnes and CO2-equivalent tonnes) for each facility, categorized by gas type, including carbon dioxide (CO2), methane (CH4), nitrous oxide (N2O), hydrofluorocarbons (HFCs), perfluorocarbons (PFCs), and sulphur hexafluoride (SF6). It also provides the province or territory where each facility is located. For further details, refer to the [\\color{blue} Greenhouse Gas Reporting Program (GHGRP) - Facility Greenhouse Gas (GHG) Data\\color{black}](https://open.canada.ca/data/en/dataset/a8ba14b7-7f23-462a-bdbb-83b0ef629823).\n",
    "\n",
    "### Pre-Processing Steps\n",
    "\n",
    "To simplify the task of creating a Shiny App, we have pre-processed the data as follows:"
   ]
  },
  {
   "cell_type": "markdown",
   "metadata": {},
   "source": [
    "We start by importing the necessary libraries for data transformation:"
   ]
  },
  {
   "cell_type": "code",
   "execution_count": 15,
   "metadata": {},
   "outputs": [],
   "source": [
    "#| eval: false\n",
    "import numpy as np\n",
    "import pandas as pd\n",
    "import re"
   ]
  },
  {
   "cell_type": "markdown",
   "metadata": {},
   "source": [
    "Next, we read the downloaded dataset in CSV format with the specified encoding (latin1):"
   ]
  },
  {
   "cell_type": "code",
   "execution_count": 16,
   "metadata": {},
   "outputs": [],
   "source": [
    "#| eval: false\n",
    "df = pd.read_csv(\"/Users/jaspreetbrar/Desktop/Classes/Stats3DA3/Assignment2/PDGES-GHGRP-GHGEmissionsGES-2004-Present.csv\", encoding='latin1') \n"
   ]
  },
  {
   "cell_type": "markdown",
   "metadata": {},
   "source": [
    "The column names in the dataset are a mix of English and French. We use the `clean_column_names()` function to standardize the column names by removing French names, non-ASCII characters, and unnecessary symbols.\n",
    "\n",
    "Here is the `clean_column_names()` function:"
   ]
  },
  {
   "cell_type": "code",
   "execution_count": 17,
   "metadata": {},
   "outputs": [],
   "source": [
    "#| eval: false\n",
    "\n",
    "# clean_column_names function\n",
    "def clean_column_names(column_names):\n",
    "    cleaned_names = []\n",
    "    # loop through each column name\n",
    "    for name in column_names:\n",
    "        # convert names to ASCII and remove non-ASCII characters\n",
    "        name = name.encode('ascii', 'ignore').decode('ascii')\n",
    "        # remove everything after '/' (French column name)\n",
    "        name = re.sub(r'/.*', '', name)\n",
    "        # remove parentheses\n",
    "        name = re.sub(r'[()]', '', name)\n",
    "        # remove extra whitespace\n",
    "        name = ' '.join(name.split())\n",
    "        cleaned_names.append(name)\n",
    "        # return new column names\n",
    "    return cleaned_names \n",
    "\n"
   ]
  },
  {
   "cell_type": "markdown",
   "metadata": {},
   "source": [
    "We then apply this function to clean the column names in the DataFrame:"
   ]
  },
  {
   "cell_type": "code",
   "execution_count": 18,
   "metadata": {},
   "outputs": [],
   "source": [
    "#| eval: false\n",
    "df.columns = clean_column_names(df.columns)\n"
   ]
  },
  {
   "cell_type": "markdown",
   "metadata": {},
   "source": [
    "Next, we select the relevant columns for the analysis:\n",
    "\n",
    "- `Reference Year` - the year GHG gas emission was recorded.\n",
    "- `GHGRP ID No.` - the facility identity.\n",
    "- `Facility Province or Territory` - province or territory of the facility.\n",
    "- `CO2 tonnes` - emissions (in tonnes and tonnes of CO2 eq.) of carbon dioxide (CO2).\n",
    "- `CH4 tonnes` - emissions (in tonnes and tonnes of CO2 eq.) of methane.\n",
    "- `N2O tonnes` - emissions (in tonnes and tonnes of CO2 eq.) of nitrous oxide.\n",
    "- `SF6 tonnes`- emissions (in tonnes and tonnes of CO2 eq.) of sulphur hexafluoride.\n",
    "- `HFC Total tonnes CO2e` - emissions (in tonnes and tonnes of CO2 eq.) of hydrofluorocarbons.\n",
    "- `PFC Total tonnes CO2e` - emissions (in tonnes and tonnes of CO2 eq.) of perfluorocarbons.\n"
   ]
  },
  {
   "cell_type": "code",
   "execution_count": 19,
   "metadata": {},
   "outputs": [],
   "source": [
    "#| eval: false\n",
    "\n",
    "selected_cols = [\n",
    "    \"Reference Year\", \"GHGRP ID No.\", \"Facility Province or Territory\",\n",
    "    \"CO2 tonnes\", \"CH4 tonnes\", \"N2O tonnes\", \"SF6 tonnes\",\n",
    "    \"HFC Total tonnes CO2e\", \"PFC Total tonnes CO2e\"\n",
    "]\n",
    "\n",
    "df= df[selected_cols]"
   ]
  },
  {
   "cell_type": "markdown",
   "metadata": {},
   "source": [
    "We rename the columns to make them more concise and consistent:"
   ]
  },
  {
   "cell_type": "code",
   "execution_count": 20,
   "metadata": {},
   "outputs": [
    {
     "name": "stdout",
     "output_type": "stream",
     "text": [
      "   Year Facility_ID Province_Territory           CO2          CH4        N2O  \\\n",
      "0  2022      G12721             Quebec  2.473800e+02   956.162100   0.001900   \n",
      "1  2022      G10001             Quebec  3.887707e+04     0.760073   0.675020   \n",
      "2  2022      G10003            Alberta  3.368673e+05   482.571900   8.587500   \n",
      "3  2022      G10004            Ontario  9.980300e+02     0.243572   0.025105   \n",
      "4  2022      G10006            Alberta  1.101755e+06  4295.113188  16.554313   \n",
      "\n",
      "   SF6  HFC  PFC  \n",
      "0  0.0  0.0  0.0  \n",
      "1  0.0  0.0  0.0  \n",
      "2  0.0  0.0  0.0  \n",
      "3  0.0  0.0  0.0  \n",
      "4  0.0  0.0  0.0  \n"
     ]
    }
   ],
   "source": [
    "#| eval: false\n",
    "\n",
    "df.rename(columns={\n",
    "    \"Reference Year\": \"Year\",\n",
    "    \"GHGRP ID No.\": \"Facility_ID\",\n",
    "    \"Facility Province or Territory\": \"Province_Territory\",\n",
    "    \"CO2 tonnes\": \"CO2\",\n",
    "    \"CH4 tonnes\": \"CH4\",\n",
    "    \"N2O tonnes\": \"N2O\",\n",
    "    \"SF6 tonnes\": \"SF6\",\n",
    "    \"HFC Total tonnes CO2e\": \"HFC\",\n",
    "    \"PFC Total tonnes CO2e\": \"PFC\"\n",
    "}, inplace=True)\n",
    "\n",
    "print(df.head())"
   ]
  },
  {
   "cell_type": "markdown",
   "metadata": {},
   "source": [
    "Finally, we save the pre-processed data to a new CSV file:"
   ]
  },
  {
   "cell_type": "code",
   "execution_count": 21,
   "metadata": {},
   "outputs": [],
   "source": [
    "#| eval: false\n",
    "df.to_csv(\"cleaned_GHG_Emissions.csv\", index=False)"
   ]
  },
  {
   "cell_type": "markdown",
   "metadata": {},
   "source": [
    "The pre-processed dataset is now available for analysis and can be accessed at: \n",
    "\n",
    "[\\color{blue} https://raw.githubusercontent.com/PratheepaJ/datasets/refs/heads/master/cleaned_GHG_Emissions.csv\\color{black}](https://raw.githubusercontent.com/PratheepaJ/datasets/refs/heads/master/cleaned_GHG_Emissions.csv).\n",
    "\n",
    "**You will use this dataset for Question 2.**"
   ]
  },
  {
   "cell_type": "markdown",
   "metadata": {},
   "source": [
    "\\newpage"
   ]
  },
  {
   "cell_type": "markdown",
   "metadata": {},
   "source": [
    "### Next Steps\n",
    "\n",
    "The following questions guide you through creating a Shiny App to explore trends in CO2, CH4, and N2O emissions across provinces and territories in Canada from 2004 to 2022."
   ]
  },
  {
   "cell_type": "markdown",
   "metadata": {},
   "source": [
    "(1) Read the pre-processed data from the provided link.\n"
   ]
  },
  {
   "cell_type": "code",
   "execution_count": 22,
   "metadata": {},
   "outputs": [
    {
     "data": {
      "text/html": [
       "<div>\n",
       "<style scoped>\n",
       "    .dataframe tbody tr th:only-of-type {\n",
       "        vertical-align: middle;\n",
       "    }\n",
       "\n",
       "    .dataframe tbody tr th {\n",
       "        vertical-align: top;\n",
       "    }\n",
       "\n",
       "    .dataframe thead th {\n",
       "        text-align: right;\n",
       "    }\n",
       "</style>\n",
       "<table border=\"1\" class=\"dataframe\">\n",
       "  <thead>\n",
       "    <tr style=\"text-align: right;\">\n",
       "      <th></th>\n",
       "      <th>Year</th>\n",
       "      <th>Facility_ID</th>\n",
       "      <th>Province_Territory</th>\n",
       "      <th>CO2</th>\n",
       "      <th>CH4</th>\n",
       "      <th>N2O</th>\n",
       "      <th>SF6</th>\n",
       "      <th>HFC</th>\n",
       "      <th>PFC</th>\n",
       "    </tr>\n",
       "  </thead>\n",
       "  <tbody>\n",
       "    <tr>\n",
       "      <th>0</th>\n",
       "      <td>2022</td>\n",
       "      <td>G12721</td>\n",
       "      <td>Quebec</td>\n",
       "      <td>2.473800e+02</td>\n",
       "      <td>956.162100</td>\n",
       "      <td>0.001900</td>\n",
       "      <td>0.0</td>\n",
       "      <td>0.0</td>\n",
       "      <td>0.0</td>\n",
       "    </tr>\n",
       "    <tr>\n",
       "      <th>1</th>\n",
       "      <td>2022</td>\n",
       "      <td>G10001</td>\n",
       "      <td>Quebec</td>\n",
       "      <td>3.887707e+04</td>\n",
       "      <td>0.760073</td>\n",
       "      <td>0.675020</td>\n",
       "      <td>0.0</td>\n",
       "      <td>0.0</td>\n",
       "      <td>0.0</td>\n",
       "    </tr>\n",
       "    <tr>\n",
       "      <th>2</th>\n",
       "      <td>2022</td>\n",
       "      <td>G10003</td>\n",
       "      <td>Alberta</td>\n",
       "      <td>3.368673e+05</td>\n",
       "      <td>482.571900</td>\n",
       "      <td>8.587500</td>\n",
       "      <td>0.0</td>\n",
       "      <td>0.0</td>\n",
       "      <td>0.0</td>\n",
       "    </tr>\n",
       "    <tr>\n",
       "      <th>3</th>\n",
       "      <td>2022</td>\n",
       "      <td>G10004</td>\n",
       "      <td>Ontario</td>\n",
       "      <td>9.980300e+02</td>\n",
       "      <td>0.243572</td>\n",
       "      <td>0.025105</td>\n",
       "      <td>0.0</td>\n",
       "      <td>0.0</td>\n",
       "      <td>0.0</td>\n",
       "    </tr>\n",
       "    <tr>\n",
       "      <th>4</th>\n",
       "      <td>2022</td>\n",
       "      <td>G10006</td>\n",
       "      <td>Alberta</td>\n",
       "      <td>1.101755e+06</td>\n",
       "      <td>4295.113188</td>\n",
       "      <td>16.554313</td>\n",
       "      <td>0.0</td>\n",
       "      <td>0.0</td>\n",
       "      <td>0.0</td>\n",
       "    </tr>\n",
       "  </tbody>\n",
       "</table>\n",
       "</div>"
      ],
      "text/plain": [
       "   Year Facility_ID Province_Territory           CO2          CH4        N2O  \\\n",
       "0  2022      G12721             Quebec  2.473800e+02   956.162100   0.001900   \n",
       "1  2022      G10001             Quebec  3.887707e+04     0.760073   0.675020   \n",
       "2  2022      G10003            Alberta  3.368673e+05   482.571900   8.587500   \n",
       "3  2022      G10004            Ontario  9.980300e+02     0.243572   0.025105   \n",
       "4  2022      G10006            Alberta  1.101755e+06  4295.113188  16.554313   \n",
       "\n",
       "   SF6  HFC  PFC  \n",
       "0  0.0  0.0  0.0  \n",
       "1  0.0  0.0  0.0  \n",
       "2  0.0  0.0  0.0  \n",
       "3  0.0  0.0  0.0  \n",
       "4  0.0  0.0  0.0  "
      ]
     },
     "execution_count": 22,
     "metadata": {},
     "output_type": "execute_result"
    }
   ],
   "source": [
    "import requests\n",
    "import io\n",
    "import urllib3\n",
    "\n",
    "# Suppress only the single warning from urllib3 needed.\n",
    "urllib3.disable_warnings(urllib3.exceptions.InsecureRequestWarning)\n",
    "\n",
    "url = \"https://raw.githubusercontent.com/PratheepaJ/datasets/refs/heads/master/cleaned_GHG_Emissions.csv\"\n",
    "\n",
    "response = requests.get(url, verify=False)\n",
    "data = response.content.decode('latin1')\n",
    "df = pd.read_csv(io.StringIO(data))\n",
    "df.head()"
   ]
  },
  {
   "cell_type": "markdown",
   "metadata": {},
   "source": [
    "\\newpage"
   ]
  },
  {
   "cell_type": "markdown",
   "metadata": {},
   "source": [
    "(2) Ensure that the year variable is in the correct format. If not, convert it to the date-time format and extract the year. Replace the original 'Year' variable with the extracted year.\n",
    "\n",
    "\\color{blue}\n",
    "\n",
    "Hint: Use the following command to convert the year:\n",
    "\n",
    "\\color{black}"
   ]
  },
  {
   "cell_type": "code",
   "execution_count": 23,
   "metadata": {},
   "outputs": [
    {
     "data": {
      "text/plain": [
       "Year                    int64\n",
       "Facility_ID            object\n",
       "Province_Territory     object\n",
       "CO2                   float64\n",
       "CH4                   float64\n",
       "N2O                   float64\n",
       "SF6                   float64\n",
       "HFC                   float64\n",
       "PFC                   float64\n",
       "dtype: object"
      ]
     },
     "execution_count": 23,
     "metadata": {},
     "output_type": "execute_result"
    }
   ],
   "source": [
    "# Ensure the 'Year' column is in the correct format (extract the year)\n",
    "df.dtypes"
   ]
  },
  {
   "cell_type": "markdown",
   "metadata": {},
   "source": [
    "\\newpage"
   ]
  },
  {
   "cell_type": "markdown",
   "metadata": {},
   "source": [
    "(3) Some territories may have no facilities reported in early years. Group the data by `Year` and `Province_Territory` to count distinct `Facility_ID` values. Find which territories are missing in 2004.\n",
    "\n",
    "\\color{blue}\n",
    "\n",
    "Hint: Use the following code to group the data and find missing territories:\n",
    "\n",
    "\n",
    "\\color{black}"
   ]
  },
  {
   "cell_type": "code",
   "execution_count": 24,
   "metadata": {},
   "outputs": [
    {
     "name": "stdout",
     "output_type": "stream",
     "text": [
      "Territories missing in 2004: {nan, 'Yukon', 'Nunavut'}\n"
     ]
    }
   ],
   "source": [
    "# Group by Year and Province/Territory to count distinct facilities\n",
    "df_facilities = df.groupby(['Year', 'Province_Territory']).agg(\n",
    "    facilities=('Facility_ID', 'nunique')\n",
    ").reset_index()\n",
    "\n",
    "\n",
    "# List all territories from the dataset\n",
    "all_territories = df['Province_Territory'].unique()\n",
    "\n",
    "# Identify which territories reported facilities in 2004\n",
    "facilities_2004 = df_facilities[df_facilities['Year'] == 2004]['Province_Territory'].unique()\n",
    "\n",
    "# Find territories missing in 2004\n",
    "missing_territories_2004 = set(all_territories) - set(facilities_2004)\n",
    "print(\"Territories missing in 2004:\", missing_territories_2004)"
   ]
  },
  {
   "cell_type": "markdown",
   "metadata": {},
   "source": [
    "\\newpage"
   ]
  },
  {
   "cell_type": "markdown",
   "metadata": {},
   "source": [
    "(4) Find the earliest and latest year emissions were recorded."
   ]
  },
  {
   "cell_type": "code",
   "execution_count": 25,
   "metadata": {},
   "outputs": [
    {
     "name": "stdout",
     "output_type": "stream",
     "text": [
      "Earliest year of emissions recorded: 2004\n",
      "Latest year of emissions recorded: 2022\n"
     ]
    }
   ],
   "source": [
    "min_year = df['Year'].min()\n",
    "max_year = df['Year'].max()\n",
    "print(\"Earliest year of emissions recorded:\", min_year)\n",
    "print(\"Latest year of emissions recorded:\", max_year)"
   ]
  },
  {
   "cell_type": "markdown",
   "metadata": {},
   "source": [
    "\\newpage"
   ]
  },
  {
   "cell_type": "markdown",
   "metadata": {
    "vscode": {
     "languageId": "raw"
    }
   },
   "source": [
    "(5) Group the data by `Year` and `Province_Territory` and sum the emissions of CO2, CH4, and N2O for each province.\n",
    "\n",
    "\\color{blue}\n",
    "Hint: Use the following code to calculate the total emissions:\n",
    "\n",
    "\\color{black}"
   ]
  },
  {
   "cell_type": "code",
   "execution_count": 26,
   "metadata": {},
   "outputs": [
    {
     "name": "stdout",
     "output_type": "stream",
     "text": [
      "     Year         Province_Territory           CO2            CH4          N2O\n",
      "0    2004                    Alberta  1.027572e+08  135337.195168  5120.460777\n",
      "1    2004           British Columbia  1.263764e+07   34007.739560   673.717199\n",
      "2    2004                   Manitoba  1.859467e+06   25508.017000   210.645008\n",
      "3    2004              New Brunswick  1.286296e+07    1426.663022   270.524004\n",
      "4    2004  Newfoundland and Labrador  5.233507e+06    5123.829998    88.760300\n",
      "..    ...                        ...           ...            ...          ...\n",
      "231  2022                    Ontario  4.245634e+07  168447.810213  1682.133227\n",
      "232  2022       Prince Edward Island  5.014224e+04      15.055154     5.971497\n",
      "233  2022                     Quebec  1.988334e+07   56517.375148   820.326410\n",
      "234  2022               Saskatchewan  2.702207e+07   42829.795415   671.062091\n",
      "235  2022                      Yukon  2.833794e+04       3.118111     0.340188\n",
      "\n",
      "[236 rows x 5 columns]\n"
     ]
    }
   ],
   "source": [
    "df_grouped = df.groupby(['Year', 'Province_Territory']).agg(\n",
    "    CO2=('CO2', 'sum'),\n",
    "    CH4=('CH4', 'sum'),\n",
    "    N2O=('N2O', 'sum')\n",
    ").reset_index()\n",
    "print(df_grouped)"
   ]
  },
  {
   "cell_type": "markdown",
   "metadata": {},
   "source": [
    "\\newpage"
   ]
  },
  {
   "cell_type": "markdown",
   "metadata": {},
   "source": [
    "(6) Plot the CO2 changes over the years for each province and territory, using colored lines to differentiate between them.\n",
    "\n",
    "Note: you will use the dataset obtained in (5) for this plot.\n"
   ]
  },
  {
   "cell_type": "code",
   "execution_count": 27,
   "metadata": {},
   "outputs": [
    {
     "data": {
      "image/png": "[encoded data removed]",
      "text/plain": [
       "<Figure size 1200x600 with 1 Axes>"
      ]
     },
     "metadata": {},
     "output_type": "display_data"
    }
   ],
   "source": [
    "import seaborn as sns\n",
    "import matplotlib.pyplot as plt\n",
    "\n",
    "plt.figure(figsize=(12, 6))\n",
    "sns.lineplot(data=df_grouped, x='Year', y='CO2', hue='Province_Territory', marker='o')\n",
    "plt.title('CO2 Emissions Trend by Province/Territory')\n",
    "plt.xlabel('Year')\n",
    "plt.ylabel('Total CO2 Emissions (Tonnes)')\n",
    "plt.legend(title='Province/Territory', bbox_to_anchor=(1.05, 1), loc='upper left')\n",
    "plt.xticks(ticks=np.arange(min_year, max_year + 1, 1), rotation=45)\n",
    "plt.grid(True)\n",
    "plt.show()"
   ]
  },
  {
   "cell_type": "markdown",
   "metadata": {},
   "source": [
    "\\newpage"
   ]
  },
  {
   "cell_type": "markdown",
   "metadata": {},
   "source": [
    "(7) Provide a description of the CO2 emission trend across provinces and territories based on the plot in (6)."
   ]
  },
  {
   "cell_type": "markdown",
   "metadata": {},
   "source": [
    "The plot reveals that CO2 emissions vary considerably across provinces and territories over time. Some regions show a steady increase in emissions, while others display fluctuations—likely reflecting differences in industrial activity and reporting practices."
   ]
  },
  {
   "cell_type": "markdown",
   "metadata": {},
   "source": [
    "\\newpage"
   ]
  },
  {
   "cell_type": "markdown",
   "metadata": {},
   "source": [
    "(8) Develop a Shiny app that allows the user to input a start year (from 2004 to 2022), an end year (from 2004 to 2022), and select a gas type (CO2, CH4, N2O).\n",
    "    - Use `ui.input_select` to allow the user to specify the start year (between 2004 and 2022).\n",
    "    - Use `ui.input_select` to allow the user to specify the end year (between 2004 and 2022).\n",
    "    - Use `ui.input_select` to allow the user to select the gas type (CO2, CH4, or N2O).\n",
    "\n",
    "You can start by using the following Shiny app template to structure your app. When writing the app in `app.py`, remove the template instructions and replace them with your implementation.\n",
    "\n",
    "You will also need to copy-paste your `app.py` in your assignment answers, similar to the template provided here:"
   ]
  },
  {
   "cell_type": "code",
   "execution_count": 28,
   "metadata": {},
   "outputs": [
    {
     "ename": "ModuleNotFoundError",
     "evalue": "No module named 'shiny'",
     "output_type": "error",
     "traceback": [
      "\u001b[0;31m---------------------------------------------------------------------------\u001b[0m",
      "\u001b[0;31mModuleNotFoundError\u001b[0m                       Traceback (most recent call last)",
      "Cell \u001b[0;32mIn[28], line 2\u001b[0m\n\u001b[1;32m      1\u001b[0m \u001b[38;5;66;03m# Shiny App Development using Python's Shiny framework\u001b[39;00m\n\u001b[0;32m----> 2\u001b[0m \u001b[38;5;28;01mfrom\u001b[39;00m\u001b[38;5;250m \u001b[39m\u001b[38;5;21;01mshiny\u001b[39;00m\u001b[38;5;250m \u001b[39m\u001b[38;5;28;01mimport\u001b[39;00m App, render, ui\n\u001b[1;32m      4\u001b[0m app_ui \u001b[38;5;241m=\u001b[39m ui\u001b[38;5;241m.\u001b[39mpage_fluid(\n\u001b[1;32m      5\u001b[0m     ui\u001b[38;5;241m.\u001b[39minput_select(\n\u001b[1;32m      6\u001b[0m         \u001b[38;5;28mid\u001b[39m\u001b[38;5;241m=\u001b[39m\u001b[38;5;124m'\u001b[39m\u001b[38;5;124memissiontype\u001b[39m\u001b[38;5;124m'\u001b[39m,\n\u001b[0;32m   (...)\u001b[0m\n\u001b[1;32m     21\u001b[0m     ui\u001b[38;5;241m.\u001b[39moutput_plot(\u001b[38;5;124m'\u001b[39m\u001b[38;5;124mmyplot\u001b[39m\u001b[38;5;124m'\u001b[39m)\n\u001b[1;32m     22\u001b[0m )\n\u001b[1;32m     24\u001b[0m \u001b[38;5;28;01mdef\u001b[39;00m\u001b[38;5;250m \u001b[39m\u001b[38;5;21mserver\u001b[39m(\u001b[38;5;28minput\u001b[39m, output, session):\n",
      "\u001b[0;31mModuleNotFoundError\u001b[0m: No module named 'shiny'"
     ]
    }
   ],
   "source": [
    "# Shiny App Development using Python's Shiny framework\n",
    "from shiny import App, render, ui\n",
    "\n",
    "app_ui = ui.page_fluid(\n",
    "    ui.input_select(\n",
    "        id='emissiontype',\n",
    "        label='Choose emission type',\n",
    "        choices=['CO2', 'CH4', 'N2O'],\n",
    "        selected='CO2'\n",
    "    ),\n",
    "    ui.input_select(\n",
    "        \"start_year\",\n",
    "        \"Start Year\",\n",
    "        [str(year) for year in range(2004, 2023)]\n",
    "    ),\n",
    "    ui.input_select(\n",
    "        \"end_year\",\n",
    "        \"End Year\",\n",
    "        [str(year) for year in range(2004, 2023)]\n",
    "    ),\n",
    "    ui.output_plot('myplot')\n",
    ")\n",
    "\n",
    "def server(input, output, session):\n",
    "    @output\n",
    "    @render.plot\n",
    "    def myplot():\n",
    "        # Read the pre-processed GHG data\n",
    "        df = pd.read_csv(\"https://raw.githubusercontent.com/PratheepaJ/datasets/refs/heads/master/cleaned_GHG_Emissions.csv\", encoding='latin1')\n",
    "        # Format the 'Year' column\n",
    "        df['Year'] = pd.to_datetime(df['Year'], format='%Y').dt.year\n",
    "        # Filter data based on user-selected start and end years\n",
    "        start_year = int(input.start_year())\n",
    "        end_year = int(input.end_year())\n",
    "        df_filtered = df[(df['Year'] >= start_year) & (df['Year'] <= end_year)]\n",
    "        # Group data by Year and Province/Territory, summing emissions for each gas type\n",
    "        df_grouped = df_filtered.groupby(['Year', 'Province_Territory']).agg(\n",
    "            CO2=('CO2', 'sum'),\n",
    "            CH4=('CH4', 'sum'),\n",
    "            N2O=('N2O', 'sum')\n",
    "        ).reset_index()\n",
    "        # Determine the emission type to plot\n",
    "        emission_type = input.emissiontype()\n",
    "        plt.figure(figsize=(10, 6))\n",
    "        sns.lineplot(data=df_grouped, x='Year', y=emission_type, hue='Province_Territory', marker='o')\n",
    "        plt.title(f'{emission_type} Emissions Trend')\n",
    "        plt.xlabel('Year')\n",
    "        plt.ylabel(f'Total {emission_type} Emissions (Tonnes)')\n",
    "        plt.legend(title='Province/Territory', bbox_to_anchor=(1.05, 1), loc='upper left')\n",
    "        plt.xticks(ticks=np.arange(df_grouped['Year'].min(), df_grouped['Year'].max() + 1, 1), rotation=45)\n",
    "        plt.grid(True)\n",
    "        return plt.gcf()\n",
    "\n",
    "app = App(app_ui, server)"
   ]
  },
  {
   "cell_type": "markdown",
   "metadata": {},
   "source": [
    "\\newpage"
   ]
  },
  {
   "cell_type": "markdown",
   "metadata": {},
   "source": [
    "(9) Deploy your Shiny App at [https://www.shinyapps.io/](https://www.shinyapps.io/). Then, provide the link to the App.\n",
    "\n",
    "For example, the link to my app is [https://pratheepaj.shinyapps.io/my_app/](https://pratheepaj.shinyapps.io/my_app/)."
   ]
  },
  {
   "cell_type": "markdown",
   "metadata": {},
   "source": [
    "[The link to my app](https://neerat.shinyapps.io/my_app/)"
   ]
  },
  {
   "cell_type": "markdown",
   "metadata": {},
   "source": [
    "(I used Github Copilot for assistance)"
   ]
  }
 ],
 "metadata": {
  "kernelspec": {
   "display_name": "stats3da3w2025",
   "language": "python",
   "name": "python3"
  },
  "language_info": {
   "codemirror_mode": {
    "name": "ipython",
    "version": 3
   },
   "file_extension": ".py",
   "mimetype": "text/x-python",
   "name": "python",
   "nbconvert_exporter": "python",
   "pygments_lexer": "ipython3",
   "version": "3.9.18"
  }
 },
 "nbformat": 4,
 "nbformat_minor": 2
}
